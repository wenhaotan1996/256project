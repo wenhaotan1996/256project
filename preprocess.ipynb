{
 "cells": [
  {
   "cell_type": "code",
   "execution_count": 1,
   "metadata": {},
   "outputs": [],
   "source": [
    "import pandas as pd"
   ]
  },
  {
   "cell_type": "code",
   "execution_count": 2,
   "metadata": {},
   "outputs": [
    {
     "data": {
      "text/html": [
       "<div>\n",
       "<style scoped>\n",
       "    .dataframe tbody tr th:only-of-type {\n",
       "        vertical-align: middle;\n",
       "    }\n",
       "\n",
       "    .dataframe tbody tr th {\n",
       "        vertical-align: top;\n",
       "    }\n",
       "\n",
       "    .dataframe thead th {\n",
       "        text-align: right;\n",
       "    }\n",
       "</style>\n",
       "<table border=\"1\" class=\"dataframe\">\n",
       "  <thead>\n",
       "    <tr style=\"text-align: right;\">\n",
       "      <th></th>\n",
       "      <th>userId</th>\n",
       "      <th>movieId</th>\n",
       "      <th>rating</th>\n",
       "    </tr>\n",
       "  </thead>\n",
       "  <tbody>\n",
       "    <tr>\n",
       "      <th>0</th>\n",
       "      <td>1</td>\n",
       "      <td>110</td>\n",
       "      <td>1.0</td>\n",
       "    </tr>\n",
       "    <tr>\n",
       "      <th>1</th>\n",
       "      <td>1</td>\n",
       "      <td>147</td>\n",
       "      <td>4.5</td>\n",
       "    </tr>\n",
       "    <tr>\n",
       "      <th>2</th>\n",
       "      <td>1</td>\n",
       "      <td>858</td>\n",
       "      <td>5.0</td>\n",
       "    </tr>\n",
       "    <tr>\n",
       "      <th>3</th>\n",
       "      <td>1</td>\n",
       "      <td>1221</td>\n",
       "      <td>5.0</td>\n",
       "    </tr>\n",
       "    <tr>\n",
       "      <th>4</th>\n",
       "      <td>1</td>\n",
       "      <td>1246</td>\n",
       "      <td>5.0</td>\n",
       "    </tr>\n",
       "    <tr>\n",
       "      <th>5</th>\n",
       "      <td>1</td>\n",
       "      <td>1968</td>\n",
       "      <td>4.0</td>\n",
       "    </tr>\n",
       "    <tr>\n",
       "      <th>6</th>\n",
       "      <td>1</td>\n",
       "      <td>2762</td>\n",
       "      <td>4.5</td>\n",
       "    </tr>\n",
       "    <tr>\n",
       "      <th>7</th>\n",
       "      <td>1</td>\n",
       "      <td>2918</td>\n",
       "      <td>5.0</td>\n",
       "    </tr>\n",
       "    <tr>\n",
       "      <th>8</th>\n",
       "      <td>1</td>\n",
       "      <td>2959</td>\n",
       "      <td>4.0</td>\n",
       "    </tr>\n",
       "    <tr>\n",
       "      <th>9</th>\n",
       "      <td>1</td>\n",
       "      <td>4226</td>\n",
       "      <td>4.0</td>\n",
       "    </tr>\n",
       "  </tbody>\n",
       "</table>\n",
       "</div>"
      ],
      "text/plain": [
       "   userId  movieId  rating\n",
       "0       1      110     1.0\n",
       "1       1      147     4.5\n",
       "2       1      858     5.0\n",
       "3       1     1221     5.0\n",
       "4       1     1246     5.0\n",
       "5       1     1968     4.0\n",
       "6       1     2762     4.5\n",
       "7       1     2918     5.0\n",
       "8       1     2959     4.0\n",
       "9       1     4226     4.0"
      ]
     },
     "execution_count": 2,
     "metadata": {},
     "output_type": "execute_result"
    }
   ],
   "source": [
    "ratings = pd.read_csv(\"data/ratings.csv\")\n",
    "ratings = ratings.drop(columns=[\"timestamp\"])\n",
    "ratings.head(10)"
   ]
  },
  {
   "cell_type": "code",
   "execution_count": 3,
   "metadata": {},
   "outputs": [
    {
     "data": {
      "text/plain": [
       "78072867"
      ]
     },
     "execution_count": 3,
     "metadata": {},
     "output_type": "execute_result"
    }
   ],
   "source": [
    "ratings.size"
   ]
  },
  {
   "cell_type": "code",
   "execution_count": 4,
   "metadata": {},
   "outputs": [
    {
     "data": {
      "text/plain": [
       "270896"
      ]
     },
     "execution_count": 4,
     "metadata": {},
     "output_type": "execute_result"
    }
   ],
   "source": [
    "ratings.userId.unique().size"
   ]
  },
  {
   "cell_type": "code",
   "execution_count": 5,
   "metadata": {},
   "outputs": [
    {
     "data": {
      "text/plain": [
       "45115"
      ]
     },
     "execution_count": 5,
     "metadata": {},
     "output_type": "execute_result"
    }
   ],
   "source": [
    "ratings.movieId.unique().size"
   ]
  },
  {
   "cell_type": "code",
   "execution_count": 6,
   "metadata": {},
   "outputs": [
    {
     "name": "stderr",
     "output_type": "stream",
     "text": [
      "E:\\Anaconda3\\lib\\site-packages\\IPython\\core\\interactiveshell.py:3063: DtypeWarning: Columns (10) have mixed types.Specify dtype option on import or set low_memory=False.\n",
      "  interactivity=interactivity, compiler=compiler, result=result)\n"
     ]
    }
   ],
   "source": [
    "meta = pd.read_csv(\"data/movies_metadata.csv\")\n",
    "meta = meta.drop(index=[19730,29503,35587])\n",
    "meta = meta.astype({'id': 'int'})"
   ]
  },
  {
   "cell_type": "code",
   "execution_count": 7,
   "metadata": {},
   "outputs": [
    {
     "data": {
      "text/plain": [
       "45433"
      ]
     },
     "execution_count": 7,
     "metadata": {},
     "output_type": "execute_result"
    }
   ],
   "source": [
    "meta.id.unique().size"
   ]
  },
  {
   "cell_type": "code",
   "execution_count": 8,
   "metadata": {},
   "outputs": [
    {
     "name": "stdout",
     "output_type": "stream",
     "text": [
      "45433\n",
      "45115\n"
     ]
    }
   ],
   "source": [
    "meta_movie = meta.id.unique().tolist()\n",
    "rating_movie = ratings.movieId.unique().tolist()\n",
    "print(len(meta_movie))\n",
    "print(len(rating_movie))"
   ]
  },
  {
   "cell_type": "code",
   "execution_count": 9,
   "metadata": {},
   "outputs": [
    {
     "name": "stdout",
     "output_type": "stream",
     "text": [
      "7565\n"
     ]
    }
   ],
   "source": [
    "intersect = [x for x in rating_movie if x in meta_movie]\n",
    "print(len(intersect))"
   ]
  },
  {
   "cell_type": "code",
   "execution_count": 10,
   "metadata": {},
   "outputs": [],
   "source": [
    "ratings = ratings.loc[ratings['movieId'].isin(intersect)]"
   ]
  },
  {
   "cell_type": "code",
   "execution_count": 11,
   "metadata": {},
   "outputs": [
    {
     "name": "stdout",
     "output_type": "stream",
     "text": [
      "34309704\n",
      "265917\n",
      "7565\n"
     ]
    }
   ],
   "source": [
    "print(ratings.size)\n",
    "print(ratings.userId.unique().size)\n",
    "print(ratings.movieId.unique().size)"
   ]
  },
  {
   "cell_type": "code",
   "execution_count": 12,
   "metadata": {},
   "outputs": [
    {
     "name": "stdout",
     "output_type": "stream",
     "text": [
      "140637\n"
     ]
    }
   ],
   "source": [
    "count = ratings.groupby('userId').count()\n",
    "count = count.loc[count['rating']>=15]\n",
    "ratings_selected = ratings[ratings['userId'].isin(count.index)]\n",
    "ratings_selected = ratings_selected.sample(frac=1).reset_index(drop=True)\n",
    "user_list = ratings_selected.userId.unique()\n",
    "print(user_list.size)"
   ]
  },
  {
   "cell_type": "markdown",
   "metadata": {},
   "source": [
    "# given 10"
   ]
  },
  {
   "cell_type": "code",
   "execution_count": 15,
   "metadata": {},
   "outputs": [
    {
     "name": "stdout",
     "output_type": "stream",
     "text": [
      "31410645\n",
      "288168\n",
      "109.00115557591405\n"
     ]
    }
   ],
   "source": [
    "ratings_selected = ratings_selected.sample(frac=1).reset_index(drop=True)\n",
    "user_list = ratings_selected.userId.unique()\n",
    "# train_size = int(len(user_list)*0.95)\n",
    "# test_size = len(user_list)-train_size\n",
    "train_list = user_list[501:]\n",
    "test_list = user_list[:500]\n",
    "training = ratings_selected[ratings_selected['userId'].isin(train_list)]\n",
    "testing = ratings_selected[ratings_selected['userId'].isin(test_list)]\n",
    "print(training.size)\n",
    "print(testing.size)\n",
    "print(training.size/testing.size)"
   ]
  },
  {
   "cell_type": "code",
   "execution_count": 16,
   "metadata": {},
   "outputs": [],
   "source": [
    "training.to_csv(\"processed/training-10.csv\",index=False)\n",
    "testing.to_csv(\"processed/testing-10.csv\",index=False)"
   ]
  },
  {
   "cell_type": "markdown",
   "metadata": {},
   "source": [
    "# given 20"
   ]
  },
  {
   "cell_type": "code",
   "execution_count": 17,
   "metadata": {},
   "outputs": [
    {
     "name": "stdout",
     "output_type": "stream",
     "text": [
      "33976083\n",
      "333621\n",
      "101.84036076865665\n"
     ]
    }
   ],
   "source": [
    "count = ratings.groupby('userId').count()\n",
    "count = count.loc[count['rating']>=25]\n",
    "\n",
    "ratings = ratings.sample(frac=1).reset_index(drop=True)\n",
    "testing_selected = ratings[ratings['userId'].isin(count.index)]\n",
    "user_list = testing_selected.userId.unique()\n",
    "test_list = user_list[:500]\n",
    "testing = ratings[ratings['userId'].isin(test_list)]\n",
    "training = ratings[~ratings['userId'].isin(test_list)]\n",
    "print(training.size)\n",
    "print(testing.size)\n",
    "print(training.size/testing.size)"
   ]
  },
  {
   "cell_type": "code",
   "execution_count": 18,
   "metadata": {},
   "outputs": [],
   "source": [
    "training.to_csv(\"processed/training-20.csv\",index=False)\n",
    "testing.to_csv(\"processed/testing-20.csv\",index=False)"
   ]
  },
  {
   "cell_type": "markdown",
   "metadata": {},
   "source": [
    "# given 30"
   ]
  },
  {
   "cell_type": "code",
   "execution_count": 14,
   "metadata": {},
   "outputs": [
    {
     "name": "stdout",
     "output_type": "stream",
     "text": [
      "33966828\n",
      "342876\n",
      "99.06446645434501\n"
     ]
    }
   ],
   "source": [
    "count = ratings.groupby('userId').count()\n",
    "count = count.loc[count['rating']>=35]\n",
    "\n",
    "ratings = ratings.sample(frac=1).reset_index(drop=True)\n",
    "testing_selected = ratings[ratings['userId'].isin(count.index)]\n",
    "user_list = testing_selected.userId.unique()\n",
    "test_list = user_list[:500]\n",
    "testing = ratings[ratings['userId'].isin(test_list)]\n",
    "training = ratings[~ratings['userId'].isin(test_list)]\n",
    "print(training.size)\n",
    "print(testing.size)\n",
    "print(training.size/testing.size)"
   ]
  },
  {
   "cell_type": "code",
   "execution_count": 15,
   "metadata": {},
   "outputs": [],
   "source": [
    "training.to_csv(\"processed/training-30.csv\",index=False)\n",
    "testing.to_csv(\"processed/testing-30.csv\",index=False)"
   ]
  },
  {
   "cell_type": "markdown",
   "metadata": {},
   "source": [
    "# given 40"
   ]
  },
  {
   "cell_type": "code",
   "execution_count": 16,
   "metadata": {},
   "outputs": [
    {
     "name": "stdout",
     "output_type": "stream",
     "text": [
      "33955785\n",
      "353919\n",
      "95.94224949776644\n"
     ]
    }
   ],
   "source": [
    "count = ratings.groupby('userId').count()\n",
    "count = count.loc[count['rating']>=45]\n",
    "\n",
    "ratings = ratings.sample(frac=1).reset_index(drop=True)\n",
    "testing_selected = ratings[ratings['userId'].isin(count.index)]\n",
    "user_list = testing_selected.userId.unique()\n",
    "test_list = user_list[:500]\n",
    "testing = ratings[ratings['userId'].isin(test_list)]\n",
    "training = ratings[~ratings['userId'].isin(test_list)]\n",
    "print(training.size)\n",
    "print(testing.size)\n",
    "print(training.size/testing.size)"
   ]
  },
  {
   "cell_type": "code",
   "execution_count": 17,
   "metadata": {},
   "outputs": [],
   "source": [
    "training.to_csv(\"processed/training-40.csv\",index=False)\n",
    "testing.to_csv(\"processed/testing-40.csv\",index=False)"
   ]
  },
  {
   "cell_type": "markdown",
   "metadata": {},
   "source": [
    "# given 50"
   ]
  },
  {
   "cell_type": "code",
   "execution_count": 19,
   "metadata": {},
   "outputs": [
    {
     "name": "stdout",
     "output_type": "stream",
     "text": [
      "33935397\n",
      "374307\n",
      "90.66193525635374\n"
     ]
    }
   ],
   "source": [
    "count = ratings.groupby('userId').count()\n",
    "count = count.loc[count['rating']>=55]\n",
    "\n",
    "ratings = ratings.sample(frac=1).reset_index(drop=True)\n",
    "testing_selected = ratings[ratings['userId'].isin(count.index)]\n",
    "user_list = testing_selected.userId.unique()\n",
    "test_list = user_list[:500]\n",
    "testing = ratings[ratings['userId'].isin(test_list)]\n",
    "training = ratings[~ratings['userId'].isin(test_list)]\n",
    "print(training.size)\n",
    "print(testing.size)\n",
    "print(training.size/testing.size)"
   ]
  },
  {
   "cell_type": "code",
   "execution_count": 20,
   "metadata": {},
   "outputs": [],
   "source": [
    "training.to_csv(\"processed/training-50.csv\",index=False)\n",
    "testing.to_csv(\"processed/testing-50.csv\",index=False)"
   ]
  },
  {
   "cell_type": "markdown",
   "metadata": {},
   "source": [
    "# given 60"
   ]
  },
  {
   "cell_type": "code",
   "execution_count": 13,
   "metadata": {},
   "outputs": [
    {
     "name": "stdout",
     "output_type": "stream",
     "text": [
      "33887997\n",
      "421707\n",
      "80.35910478128179\n"
     ]
    }
   ],
   "source": [
    "count = ratings.groupby('userId').count()\n",
    "count = count.loc[count['rating']>=65]\n",
    "\n",
    "ratings = ratings.sample(frac=1).reset_index(drop=True)\n",
    "testing_selected = ratings[ratings['userId'].isin(count.index)]\n",
    "user_list = testing_selected.userId.unique()\n",
    "test_list = user_list[:500]\n",
    "testing = ratings[ratings['userId'].isin(test_list)]\n",
    "training = ratings[~ratings['userId'].isin(test_list)]\n",
    "print(training.size)\n",
    "print(testing.size)\n",
    "print(training.size/testing.size)"
   ]
  },
  {
   "cell_type": "code",
   "execution_count": 14,
   "metadata": {},
   "outputs": [],
   "source": [
    "training.to_csv(\"processed/training-60.csv\",index=False)\n",
    "testing.to_csv(\"processed/testing-60.csv\",index=False)"
   ]
  },
  {
   "cell_type": "markdown",
   "metadata": {},
   "source": [
    "# given 70"
   ]
  },
  {
   "cell_type": "code",
   "execution_count": 13,
   "metadata": {},
   "outputs": [
    {
     "name": "stdout",
     "output_type": "stream",
     "text": [
      "33906909\n",
      "402795\n",
      "84.17907123971251\n"
     ]
    }
   ],
   "source": [
    "count = ratings.groupby('userId').count()\n",
    "count = count.loc[count['rating']>=75]\n",
    "\n",
    "ratings = ratings.sample(frac=1).reset_index(drop=True)\n",
    "testing_selected = ratings[ratings['userId'].isin(count.index)]\n",
    "user_list = testing_selected.userId.unique()\n",
    "test_list = user_list[:500]\n",
    "testing = ratings[ratings['userId'].isin(test_list)]\n",
    "training = ratings[~ratings['userId'].isin(test_list)]\n",
    "print(training.size)\n",
    "print(testing.size)\n",
    "print(training.size/testing.size)"
   ]
  },
  {
   "cell_type": "code",
   "execution_count": 14,
   "metadata": {},
   "outputs": [],
   "source": [
    "training.to_csv(\"processed/training-70.csv\",index=False)\n",
    "testing.to_csv(\"processed/testing-70.csv\",index=False)"
   ]
  },
  {
   "cell_type": "markdown",
   "metadata": {},
   "source": [
    "# given 80"
   ]
  },
  {
   "cell_type": "code",
   "execution_count": 16,
   "metadata": {},
   "outputs": [
    {
     "name": "stdout",
     "output_type": "stream",
     "text": [
      "33867759\n",
      "441945\n",
      "76.63342497369582\n"
     ]
    }
   ],
   "source": [
    "count = ratings.groupby('userId').count()\n",
    "count = count.loc[count['rating']>=85]\n",
    "\n",
    "ratings = ratings.sample(frac=1).reset_index(drop=True)\n",
    "testing_selected = ratings[ratings['userId'].isin(count.index)]\n",
    "user_list = testing_selected.userId.unique()\n",
    "test_list = user_list[:500]\n",
    "testing = ratings[ratings['userId'].isin(test_list)]\n",
    "training = ratings[~ratings['userId'].isin(test_list)]\n",
    "print(training.size)\n",
    "print(testing.size)\n",
    "print(training.size/testing.size)"
   ]
  },
  {
   "cell_type": "code",
   "execution_count": 17,
   "metadata": {},
   "outputs": [],
   "source": [
    "training.to_csv(\"processed/training-80.csv\",index=False)\n",
    "testing.to_csv(\"processed/testing-80.csv\",index=False)"
   ]
  },
  {
   "cell_type": "markdown",
   "metadata": {},
   "source": [
    "# given 90"
   ]
  },
  {
   "cell_type": "code",
   "execution_count": 18,
   "metadata": {},
   "outputs": [
    {
     "name": "stdout",
     "output_type": "stream",
     "text": [
      "33875712\n",
      "433992\n",
      "78.05607476635514\n"
     ]
    }
   ],
   "source": [
    "count = ratings.groupby('userId').count()\n",
    "count = count.loc[count['rating']>=95]\n",
    "\n",
    "ratings = ratings.sample(frac=1).reset_index(drop=True)\n",
    "testing_selected = ratings[ratings['userId'].isin(count.index)]\n",
    "user_list = testing_selected.userId.unique()\n",
    "test_list = user_list[:500]\n",
    "testing = ratings[ratings['userId'].isin(test_list)]\n",
    "training = ratings[~ratings['userId'].isin(test_list)]\n",
    "print(training.size)\n",
    "print(testing.size)\n",
    "print(training.size/testing.size)"
   ]
  },
  {
   "cell_type": "code",
   "execution_count": 19,
   "metadata": {},
   "outputs": [],
   "source": [
    "training.to_csv(\"processed/training-90.csv\",index=False)\n",
    "testing.to_csv(\"processed/testing-90.csv\",index=False)"
   ]
  },
  {
   "cell_type": "markdown",
   "metadata": {},
   "source": [
    "# given 100"
   ]
  },
  {
   "cell_type": "code",
   "execution_count": 21,
   "metadata": {},
   "outputs": [
    {
     "name": "stdout",
     "output_type": "stream",
     "text": [
      "33846579\n",
      "463125\n",
      "73.08303157894737\n"
     ]
    }
   ],
   "source": [
    "count = ratings.groupby('userId').count()\n",
    "count = count.loc[count['rating']>=105]\n",
    "\n",
    "ratings = ratings.sample(frac=1).reset_index(drop=True)\n",
    "testing_selected = ratings[ratings['userId'].isin(count.index)]\n",
    "user_list = testing_selected.userId.unique()\n",
    "test_list = user_list[:500]\n",
    "testing = ratings[ratings['userId'].isin(test_list)]\n",
    "training = ratings[~ratings['userId'].isin(test_list)]\n",
    "print(training.size)\n",
    "print(testing.size)\n",
    "print(training.size/testing.size)"
   ]
  },
  {
   "cell_type": "code",
   "execution_count": 22,
   "metadata": {},
   "outputs": [],
   "source": [
    "training.to_csv(\"processed/training-100.csv\",index=False)\n",
    "testing.to_csv(\"processed/testing-100.csv\",index=False)"
   ]
  },
  {
   "cell_type": "code",
   "execution_count": null,
   "metadata": {},
   "outputs": [],
   "source": []
  }
 ],
 "metadata": {
  "kernelspec": {
   "display_name": "Python 3",
   "language": "python",
   "name": "python3"
  },
  "language_info": {
   "codemirror_mode": {
    "name": "ipython",
    "version": 3
   },
   "file_extension": ".py",
   "mimetype": "text/x-python",
   "name": "python",
   "nbconvert_exporter": "python",
   "pygments_lexer": "ipython3",
   "version": "3.7.6"
  }
 },
 "nbformat": 4,
 "nbformat_minor": 4
}
