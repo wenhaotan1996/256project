{
 "cells": [
  {
   "cell_type": "code",
   "execution_count": 1,
   "metadata": {},
   "outputs": [],
   "source": [
    "import pandas as pd\n",
    "import numpy as np\n",
    "from scipy import spatial\n",
    "import math\n",
    "from tqdm.notebook import tqdm\n",
    "from sklearn.metrics import pairwise as pair"
   ]
  },
  {
   "cell_type": "code",
   "execution_count": 2,
   "metadata": {},
   "outputs": [],
   "source": [
    "global_mean = 0\n",
    "user_avg = []\n",
    "movie_avg = []\n",
    "rm = []\n",
    "user_list = []\n",
    "movie_list = []\n",
    "sim_df = []\n",
    "\n",
    "def train(training):\n",
    "    global global_mean\n",
    "    global user_avg\n",
    "    global movie_avg\n",
    "    global rm\n",
    "    global user_list\n",
    "    global movie_list\n",
    "    global sim_df\n",
    "    \n",
    "    global_mean = training['rating'].mean()\n",
    "    user_avg = training[['userId','rating']].groupby('userId').mean().rating.tolist()\n",
    "    movie_avg = training[['movieId','rating']].groupby('movieId').mean().rating.tolist()\n",
    "    rm = training.pivot(index='movieId',columns = 'userId',values='rating')\n",
    "    rm = (rm - rm.mean()).fillna(0)\n",
    "    user_list = rm.columns.tolist()\n",
    "    movie_list = rm.index.tolist()\n",
    "    sim_matrix = pair.cosine_similarity(rm.to_numpy())\n",
    "    sim_df = pd.DataFrame(sim_matrix,index=movie_list,columns=movie_list)\n",
    "\n",
    "def predict(userId,movieId):\n",
    "    global global_mean\n",
    "    global user_avg\n",
    "    global movie_avg\n",
    "    global rm\n",
    "    global user_list\n",
    "    global movie_list\n",
    "    global sim_df\n",
    "    \n",
    "    if userId not in user_list:\n",
    "        return global_mean\n",
    "    \n",
    "    user_index = user_list.index(userId)\n",
    "    if movieId not in movie_list:\n",
    "        prediction = user_avg[user_index]\n",
    "    else: \n",
    "        movie_index = movie_list.index(movieId)\n",
    "        sim = sim_df[movieId]\n",
    "        neighbors = sim.nlargest(6).index.tolist()\n",
    "        if movieId in neighbors:\n",
    "            neighbors.remove(movieId)\n",
    "\n",
    "        top,bottom = 0,0\n",
    "        for n in neighbors: \n",
    "            r = rm.loc[n][userId]\n",
    "            top += sim[n]*r\n",
    "            bottom += sim[n]\n",
    "        if bottom == 0:\n",
    "            prediction = user_avg[user_index] + movie_avg[movie_index] - global_mean\n",
    "        else:\n",
    "            prediction = top/bottom + user_avg[user_index] + movie_avg[movie_index] - global_mean\n",
    "    return prediction"
   ]
  },
  {
   "cell_type": "code",
   "execution_count": 3,
   "metadata": {},
   "outputs": [],
   "source": [
    "def get_rmse(testing):\n",
    "    global global_mean\n",
    "    global user_avg\n",
    "    global movie_avg\n",
    "    global rm\n",
    "    global user_list\n",
    "    global movie_list\n",
    "    global sim_df\n",
    "    \n",
    "    np_testing = testing.to_numpy()\n",
    "    \n",
    "    ms = 0\n",
    "    \n",
    "    for i in tqdm(range(len(np_testing))):\n",
    "        userId = int(np_testing[i][0])\n",
    "        movieId = int(np_testing[i][1])\n",
    "        rating = np_testing[i][2]\n",
    "        \n",
    "        prediction = predict(userId,movieId)\n",
    "\n",
    "        ms += (prediction-rating)**2\n",
    "    return math.sqrt(ms/len(np_testing))"
   ]
  },
  {
   "cell_type": "markdown",
   "metadata": {},
   "source": [
    "# given 10"
   ]
  },
  {
   "cell_type": "code",
   "execution_count": 4,
   "metadata": {},
   "outputs": [
    {
     "name": "stdout",
     "output_type": "stream",
     "text": [
      "31425645\n",
      "273168\n"
     ]
    },
    {
     "data": {
      "application/vnd.jupyter.widget-view+json": {
       "model_id": "9560e8d99c8f4393962265a6955d4df3",
       "version_major": 2,
       "version_minor": 0
      },
      "text/plain": [
       "HBox(children=(FloatProgress(value=0.0, max=91056.0), HTML(value='')))"
      ]
     },
     "metadata": {},
     "output_type": "display_data"
    },
    {
     "name": "stdout",
     "output_type": "stream",
     "text": [
      "\n",
      "rmse:  0.9123654598990113\n"
     ]
    }
   ],
   "source": [
    "training = pd.read_csv(\"processed/training-10.csv\")\n",
    "testing = pd.read_csv(\"processed/testing-10.csv\")\n",
    "given = testing.groupby(by=\"userId\").head(10)\n",
    "testing = testing[~testing.index.isin(given.index)]\n",
    "training = pd.concat([training,given])\n",
    "print(training.size)\n",
    "print(testing.size)\n",
    "train(training)\n",
    "rmse = get_rmse(testing)\n",
    "print(\"rmse: \",rmse)"
   ]
  },
  {
   "cell_type": "markdown",
   "metadata": {},
   "source": [
    "# given 20"
   ]
  },
  {
   "cell_type": "code",
   "execution_count": 5,
   "metadata": {},
   "outputs": [
    {
     "name": "stdout",
     "output_type": "stream",
     "text": [
      "34006083\n",
      "303621\n"
     ]
    },
    {
     "data": {
      "application/vnd.jupyter.widget-view+json": {
       "model_id": "35e6cf53abc4477981a271f65c8f9334",
       "version_major": 2,
       "version_minor": 0
      },
      "text/plain": [
       "HBox(children=(FloatProgress(value=0.0, max=101207.0), HTML(value='')))"
      ]
     },
     "metadata": {},
     "output_type": "display_data"
    },
    {
     "name": "stdout",
     "output_type": "stream",
     "text": [
      "\n",
      "rmse:  0.8833538515082674\n"
     ]
    }
   ],
   "source": [
    "training = pd.read_csv(\"processed/training-20.csv\")\n",
    "testing = pd.read_csv(\"processed/testing-20.csv\")\n",
    "given = testing.groupby(by=\"userId\").head(20)\n",
    "testing = testing[~testing.index.isin(given.index)]\n",
    "training = pd.concat([training,given])\n",
    "print(training.size)\n",
    "print(testing.size)\n",
    "train(training)\n",
    "rmse = get_rmse(testing)\n",
    "print(\"rmse: \",rmse)"
   ]
  },
  {
   "cell_type": "markdown",
   "metadata": {},
   "source": [
    "# given 30"
   ]
  },
  {
   "cell_type": "code",
   "execution_count": 6,
   "metadata": {},
   "outputs": [
    {
     "name": "stdout",
     "output_type": "stream",
     "text": [
      "34011828\n",
      "297876\n"
     ]
    },
    {
     "data": {
      "application/vnd.jupyter.widget-view+json": {
       "model_id": "1c93c6a9fe4146169a6c0d26bbe2dcf6",
       "version_major": 2,
       "version_minor": 0
      },
      "text/plain": [
       "HBox(children=(FloatProgress(value=0.0, max=99292.0), HTML(value='')))"
      ]
     },
     "metadata": {},
     "output_type": "display_data"
    },
    {
     "name": "stdout",
     "output_type": "stream",
     "text": [
      "\n",
      "rmse:  0.869975622764132\n"
     ]
    }
   ],
   "source": [
    "training = pd.read_csv(\"processed/training-30.csv\")\n",
    "testing = pd.read_csv(\"processed/testing-30.csv\")\n",
    "given = testing.groupby(by=\"userId\").head(30)\n",
    "testing = testing[~testing.index.isin(given.index)]\n",
    "training = pd.concat([training,given])\n",
    "print(training.size)\n",
    "print(testing.size)\n",
    "train(training)\n",
    "rmse = get_rmse(testing)\n",
    "print(\"rmse: \",rmse)"
   ]
  },
  {
   "cell_type": "markdown",
   "metadata": {},
   "source": [
    "# given 40"
   ]
  },
  {
   "cell_type": "code",
   "execution_count": 7,
   "metadata": {},
   "outputs": [
    {
     "name": "stdout",
     "output_type": "stream",
     "text": [
      "34015785\n",
      "293919\n"
     ]
    },
    {
     "data": {
      "application/vnd.jupyter.widget-view+json": {
       "model_id": "e21e8464bf124fe9af303afac39cf195",
       "version_major": 2,
       "version_minor": 0
      },
      "text/plain": [
       "HBox(children=(FloatProgress(value=0.0, max=97973.0), HTML(value='')))"
      ]
     },
     "metadata": {},
     "output_type": "display_data"
    },
    {
     "name": "stdout",
     "output_type": "stream",
     "text": [
      "\n",
      "rmse:  0.8598963323782972\n"
     ]
    }
   ],
   "source": [
    "training = pd.read_csv(\"processed/training-40.csv\")\n",
    "testing = pd.read_csv(\"processed/testing-40.csv\")\n",
    "given = testing.groupby(by=\"userId\").head(40)\n",
    "testing = testing[~testing.index.isin(given.index)]\n",
    "training = pd.concat([training,given])\n",
    "print(training.size)\n",
    "print(testing.size)\n",
    "train(training)\n",
    "rmse = get_rmse(testing)\n",
    "print(\"rmse: \",rmse)"
   ]
  },
  {
   "cell_type": "markdown",
   "metadata": {},
   "source": [
    "# given 50"
   ]
  },
  {
   "cell_type": "code",
   "execution_count": 8,
   "metadata": {},
   "outputs": [
    {
     "name": "stdout",
     "output_type": "stream",
     "text": [
      "34010397\n",
      "299307\n"
     ]
    },
    {
     "data": {
      "application/vnd.jupyter.widget-view+json": {
       "model_id": "05834e3842944594846b5fd09e144450",
       "version_major": 2,
       "version_minor": 0
      },
      "text/plain": [
       "HBox(children=(FloatProgress(value=0.0, max=99769.0), HTML(value='')))"
      ]
     },
     "metadata": {},
     "output_type": "display_data"
    },
    {
     "name": "stdout",
     "output_type": "stream",
     "text": [
      "\n",
      "rmse:  0.8429234354640223\n"
     ]
    }
   ],
   "source": [
    "training = pd.read_csv(\"processed/training-50.csv\")\n",
    "testing = pd.read_csv(\"processed/testing-50.csv\")\n",
    "given = testing.groupby(by=\"userId\").head(50)\n",
    "testing = testing[~testing.index.isin(given.index)]\n",
    "training = pd.concat([training,given])\n",
    "print(training.size)\n",
    "print(testing.size)\n",
    "train(training)\n",
    "rmse = get_rmse(testing)\n",
    "print(\"rmse: \",rmse)"
   ]
  },
  {
   "cell_type": "markdown",
   "metadata": {},
   "source": [
    "# given 60"
   ]
  },
  {
   "cell_type": "code",
   "execution_count": 9,
   "metadata": {},
   "outputs": [
    {
     "name": "stdout",
     "output_type": "stream",
     "text": [
      "33977997\n",
      "331707\n"
     ]
    },
    {
     "data": {
      "application/vnd.jupyter.widget-view+json": {
       "model_id": "f556597ac2bf4510a01b93d852fb1648",
       "version_major": 2,
       "version_minor": 0
      },
      "text/plain": [
       "HBox(children=(FloatProgress(value=0.0, max=110569.0), HTML(value='')))"
      ]
     },
     "metadata": {},
     "output_type": "display_data"
    },
    {
     "name": "stdout",
     "output_type": "stream",
     "text": [
      "\n",
      "rmse:  0.8463533121705777\n"
     ]
    }
   ],
   "source": [
    "training = pd.read_csv(\"processed/training-60.csv\")\n",
    "testing = pd.read_csv(\"processed/testing-60.csv\")\n",
    "given = testing.groupby(by=\"userId\").head(60)\n",
    "testing = testing[~testing.index.isin(given.index)]\n",
    "training = pd.concat([training,given])\n",
    "print(training.size)\n",
    "print(testing.size)\n",
    "train(training)\n",
    "rmse = get_rmse(testing)\n",
    "print(\"rmse: \",rmse)"
   ]
  },
  {
   "cell_type": "markdown",
   "metadata": {},
   "source": [
    "# given 70"
   ]
  },
  {
   "cell_type": "code",
   "execution_count": 10,
   "metadata": {},
   "outputs": [
    {
     "name": "stdout",
     "output_type": "stream",
     "text": [
      "34011909\n",
      "297795\n"
     ]
    },
    {
     "data": {
      "application/vnd.jupyter.widget-view+json": {
       "model_id": "7156d173db7043a1891f7c79a11d5be1",
       "version_major": 2,
       "version_minor": 0
      },
      "text/plain": [
       "HBox(children=(FloatProgress(value=0.0, max=99265.0), HTML(value='')))"
      ]
     },
     "metadata": {},
     "output_type": "display_data"
    },
    {
     "name": "stdout",
     "output_type": "stream",
     "text": [
      "\n",
      "rmse:  0.8671030582847791\n"
     ]
    }
   ],
   "source": [
    "training = pd.read_csv(\"processed/training-70.csv\")\n",
    "testing = pd.read_csv(\"processed/testing-70.csv\")\n",
    "given = testing.groupby(by=\"userId\").head(70)\n",
    "testing = testing[~testing.index.isin(given.index)]\n",
    "training = pd.concat([training,given])\n",
    "print(training.size)\n",
    "print(testing.size)\n",
    "train(training)\n",
    "rmse = get_rmse(testing)\n",
    "print(\"rmse: \",rmse)"
   ]
  },
  {
   "cell_type": "markdown",
   "metadata": {},
   "source": [
    "# given 80"
   ]
  },
  {
   "cell_type": "code",
   "execution_count": 11,
   "metadata": {},
   "outputs": [
    {
     "name": "stdout",
     "output_type": "stream",
     "text": [
      "33987759\n",
      "321945\n"
     ]
    },
    {
     "data": {
      "application/vnd.jupyter.widget-view+json": {
       "model_id": "c251eba832da4ac792d20779a2c77d9d",
       "version_major": 2,
       "version_minor": 0
      },
      "text/plain": [
       "HBox(children=(FloatProgress(value=0.0, max=107315.0), HTML(value='')))"
      ]
     },
     "metadata": {},
     "output_type": "display_data"
    },
    {
     "name": "stdout",
     "output_type": "stream",
     "text": [
      "\n",
      "rmse:  0.8519722145232203\n"
     ]
    }
   ],
   "source": [
    "training = pd.read_csv(\"processed/training-80.csv\")\n",
    "testing = pd.read_csv(\"processed/testing-80.csv\")\n",
    "given = testing.groupby(by=\"userId\").head(80)\n",
    "testing = testing[~testing.index.isin(given.index)]\n",
    "training = pd.concat([training,given])\n",
    "print(training.size)\n",
    "print(testing.size)\n",
    "train(training)\n",
    "rmse = get_rmse(testing)\n",
    "print(\"rmse: \",rmse)"
   ]
  },
  {
   "cell_type": "markdown",
   "metadata": {},
   "source": [
    "# given 90"
   ]
  },
  {
   "cell_type": "code",
   "execution_count": 12,
   "metadata": {},
   "outputs": [
    {
     "name": "stdout",
     "output_type": "stream",
     "text": [
      "34010712\n",
      "298992\n"
     ]
    },
    {
     "data": {
      "application/vnd.jupyter.widget-view+json": {
       "model_id": "b3cd6675968a4951845438354cc2060f",
       "version_major": 2,
       "version_minor": 0
      },
      "text/plain": [
       "HBox(children=(FloatProgress(value=0.0, max=99664.0), HTML(value='')))"
      ]
     },
     "metadata": {},
     "output_type": "display_data"
    },
    {
     "name": "stdout",
     "output_type": "stream",
     "text": [
      "\n",
      "rmse:  0.8358649217635017\n"
     ]
    }
   ],
   "source": [
    "training = pd.read_csv(\"processed/training-90.csv\")\n",
    "testing = pd.read_csv(\"processed/testing-90.csv\")\n",
    "given = testing.groupby(by=\"userId\").head(90)\n",
    "testing = testing[~testing.index.isin(given.index)]\n",
    "training = pd.concat([training,given])\n",
    "print(training.size)\n",
    "print(testing.size)\n",
    "train(training)\n",
    "rmse = get_rmse(testing)\n",
    "print(\"rmse: \",rmse)"
   ]
  },
  {
   "cell_type": "markdown",
   "metadata": {},
   "source": [
    "# given 100"
   ]
  },
  {
   "cell_type": "code",
   "execution_count": 13,
   "metadata": {},
   "outputs": [
    {
     "name": "stdout",
     "output_type": "stream",
     "text": [
      "33996579\n",
      "313125\n"
     ]
    },
    {
     "data": {
      "application/vnd.jupyter.widget-view+json": {
       "model_id": "b1bf6552fc33408c8b7dfa42c19b8c43",
       "version_major": 2,
       "version_minor": 0
      },
      "text/plain": [
       "HBox(children=(FloatProgress(value=0.0, max=104375.0), HTML(value='')))"
      ]
     },
     "metadata": {},
     "output_type": "display_data"
    },
    {
     "name": "stdout",
     "output_type": "stream",
     "text": [
      "\n",
      "rmse:  0.8579538575329002\n"
     ]
    }
   ],
   "source": [
    "training = pd.read_csv(\"processed/training-100.csv\")\n",
    "testing = pd.read_csv(\"processed/testing-100.csv\")\n",
    "given = testing.groupby(by=\"userId\").head(100)\n",
    "testing = testing[~testing.index.isin(given.index)]\n",
    "training = pd.concat([training,given])\n",
    "print(training.size)\n",
    "print(testing.size)\n",
    "train(training)\n",
    "rmse = get_rmse(testing)\n",
    "print(\"rmse: \",rmse)"
   ]
  }
 ],
 "metadata": {
  "kernelspec": {
   "display_name": "Python 3",
   "language": "python",
   "name": "python3"
  },
  "language_info": {
   "codemirror_mode": {
    "name": "ipython",
    "version": 3
   },
   "file_extension": ".py",
   "mimetype": "text/x-python",
   "name": "python",
   "nbconvert_exporter": "python",
   "pygments_lexer": "ipython3",
   "version": "3.7.6"
  }
 },
 "nbformat": 4,
 "nbformat_minor": 4
}
