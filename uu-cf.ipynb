{
 "cells": [
  {
   "cell_type": "code",
   "execution_count": 2,
   "metadata": {},
   "outputs": [],
   "source": [
    "import pandas as pd\n",
    "import numpy as np\n",
    "from scipy import spatial\n",
    "import math\n",
    "from tqdm.notebook import tqdm"
   ]
  },
  {
   "cell_type": "code",
   "execution_count": 3,
   "metadata": {},
   "outputs": [],
   "source": [
    "global_mean = 0\n",
    "user_avg = []\n",
    "movie_avg = []\n",
    "user_list = []\n",
    "movie_list = []\n",
    "np_training = []\n",
    "neighbor_dict = {}\n",
    "sim_dict = {}\n",
    "\n",
    "def find_best_k_index_except(l,k):\n",
    "    # find best k in dict l \n",
    "    result = []\n",
    "    avoid = []\n",
    "    for _ in range(k):\n",
    "        min_value = np.NINF\n",
    "        min_index = -1\n",
    "        for i in l:\n",
    "            if i not in avoid and l[i] > min_value:\n",
    "                min_value = l[i]\n",
    "                min_index = i\n",
    "        if min_index != -1:\n",
    "            result.append(min_index)\n",
    "            avoid.append(min_value)\n",
    "    return result\n",
    "\n",
    "def train(training):\n",
    "    global global_mean\n",
    "    global user_avg\n",
    "    global movie_avg\n",
    "    global user_list\n",
    "    global movie_list\n",
    "    global np_training\n",
    "    global neighbor_dict\n",
    "    global sim_dict\n",
    "    global_mean = training['rating'].mean()\n",
    "    user_avg = training[['userId','rating']].groupby('userId').mean().rating.tolist()\n",
    "    movie_avg = training[['movieId','rating']].groupby('movieId').mean().rating.tolist()\n",
    "    rm = training.pivot(index='movieId',columns = 'userId',values='rating')\n",
    "    rm = (rm - rm.mean()).fillna(0).transpose()\n",
    "    movie_list = rm.columns.tolist()\n",
    "    user_list = rm.index.tolist()\n",
    "    np_training = rm.to_numpy()\n",
    "    np_testing = testing.to_numpy()\n",
    "    ms = 0\n",
    "    neighbor_dict = {}\n",
    "    sim_dict = {}\n",
    "\n",
    "def predict(userId,movieId):\n",
    "    global global_mean\n",
    "    global user_avg\n",
    "    global movie_avg\n",
    "    global user_list\n",
    "    global movie_list\n",
    "    global np_training\n",
    "    global neighbor_dict\n",
    "    global sim_dict\n",
    "    \n",
    "    user_index = user_list.index(userId)\n",
    "    if user_index not in neighbor_dict:\n",
    "        sim = {}\n",
    "        user_ratings = np_training[user_index]\n",
    "        for x in range(len(user_ratings)):\n",
    "            if user_ratings[x] != 0:\n",
    "                movie_ratings = np_training[:,x]\n",
    "                for y in range(len(movie_ratings)):\n",
    "                    if movie_ratings[y] != 0 and y != user_index and y not in sim:\n",
    "                        sim[y] = 1 - spatial.distance.cosine(np_training[y], np_training[user_index])\n",
    "        sim_dict[user_index] = sim\n",
    "        neighbors = find_best_k_index_except(sim,5)\n",
    "        neighbor_dict[user_index] = neighbors\n",
    "    else:\n",
    "        neighbors = neighbor_dict[user_index]\n",
    "        sim = sim_dict[user_index]\n",
    "\n",
    "    top,bottom = 0,0\n",
    "    if movieId not in movie_list:\n",
    "        for n in neighbors:\n",
    "            top += user_avg[n]*sim[n]\n",
    "            bottom += sim[n]\n",
    "        if bottom == 0:\n",
    "            prediction = user_avg[user_index]\n",
    "        else:\n",
    "            prediction = top/bottom + user_avg[user_index]  - global_mean\n",
    "    else:\n",
    "        movie_index = movie_list.index(movieId)\n",
    "        for n in neighbors: \n",
    "            r = np_training[n][movie_index]\n",
    "            top += sim[n]*r\n",
    "            bottom += sim[n]\n",
    "\n",
    "        if bottom == 0:\n",
    "            prediction = user_avg[user_index] + movie_avg[movie_index] - global_mean\n",
    "        else:\n",
    "            prediction = top/bottom + user_avg[user_index] + movie_avg[movie_index] - global_mean\n",
    "    return prediction\n",
    "\n",
    "def get_rmse(testing):\n",
    "    np_testing = testing.to_numpy()\n",
    "    ms = 0\n",
    "    for i in tqdm(range(len(np_testing))):\n",
    "        userId = int(np_testing[i][0])\n",
    "        movieId = int(np_testing[i][1])\n",
    "        rating = np_testing[i][2]\n",
    "        prediction = predict(userId,movieId)\n",
    "        ms += (prediction-rating)**2\n",
    "    return math.sqrt(ms/len(np_testing))"
   ]
  },
  {
   "cell_type": "markdown",
   "metadata": {},
   "source": [
    "# given 10"
   ]
  },
  {
   "cell_type": "code",
   "execution_count": 4,
   "metadata": {},
   "outputs": [],
   "source": [
    "training = pd.read_csv(\"processed/training-10.csv\")\n",
    "testing = pd.read_csv(\"processed/testing-10.csv\")\n",
    "given = testing.groupby(by=\"userId\").head(10)\n",
    "testing = testing[~testing.index.isin(given.index)]\n",
    "training = pd.concat([training,given])"
   ]
  },
  {
   "cell_type": "code",
   "execution_count": 5,
   "metadata": {},
   "outputs": [
    {
     "data": {
      "application/vnd.jupyter.widget-view+json": {
       "model_id": "bc12fa51b6b74f7a99b977124267d5b4",
       "version_major": 2,
       "version_minor": 0
      },
      "text/plain": [
       "HBox(children=(FloatProgress(value=0.0, max=500.0), HTML(value='')))"
      ]
     },
     "metadata": {},
     "output_type": "display_data"
    },
    {
     "name": "stderr",
     "output_type": "stream",
     "text": [
      "E:\\Anaconda3\\lib\\site-packages\\scipy\\spatial\\distance.py:720: RuntimeWarning: invalid value encountered in double_scalars\n",
      "  dist = 1.0 - uv / np.sqrt(uu * vv)\n"
     ]
    },
    {
     "name": "stdout",
     "output_type": "stream",
     "text": [
      "\n"
     ]
    },
    {
     "data": {
      "application/vnd.jupyter.widget-view+json": {
       "model_id": "d5a14247afd94ff09405f59f1565075a",
       "version_major": 2,
       "version_minor": 0
      },
      "text/plain": [
       "HBox(children=(FloatProgress(value=0.0, max=91056.0), HTML(value='')))"
      ]
     },
     "metadata": {},
     "output_type": "display_data"
    },
    {
     "name": "stdout",
     "output_type": "stream",
     "text": [
      "\n"
     ]
    }
   ],
   "source": [
    "rmse = get_rmse(training,testing)"
   ]
  },
  {
   "cell_type": "code",
   "execution_count": 6,
   "metadata": {},
   "outputs": [
    {
     "data": {
      "text/plain": [
       "0.9201981093859303"
      ]
     },
     "execution_count": 6,
     "metadata": {},
     "output_type": "execute_result"
    }
   ],
   "source": [
    "rmse"
   ]
  },
  {
   "cell_type": "markdown",
   "metadata": {},
   "source": [
    "# given 20"
   ]
  },
  {
   "cell_type": "code",
   "execution_count": 7,
   "metadata": {},
   "outputs": [],
   "source": [
    "training = pd.read_csv(\"processed/training-20.csv\")\n",
    "testing = pd.read_csv(\"processed/testing-20.csv\")\n",
    "given = testing.groupby(by=\"userId\").head(20)\n",
    "testing = testing[~testing.index.isin(given.index)]\n",
    "training = pd.concat([training,given])"
   ]
  },
  {
   "cell_type": "code",
   "execution_count": 8,
   "metadata": {},
   "outputs": [
    {
     "data": {
      "application/vnd.jupyter.widget-view+json": {
       "model_id": "937869d716434248bbc9d1f5399b87a2",
       "version_major": 2,
       "version_minor": 0
      },
      "text/plain": [
       "HBox(children=(FloatProgress(value=0.0, max=500.0), HTML(value='')))"
      ]
     },
     "metadata": {},
     "output_type": "display_data"
    },
    {
     "name": "stdout",
     "output_type": "stream",
     "text": [
      "\n"
     ]
    },
    {
     "data": {
      "application/vnd.jupyter.widget-view+json": {
       "model_id": "24116165f53a45d6a04a078b649dfd0c",
       "version_major": 2,
       "version_minor": 0
      },
      "text/plain": [
       "HBox(children=(FloatProgress(value=0.0, max=101207.0), HTML(value='')))"
      ]
     },
     "metadata": {},
     "output_type": "display_data"
    },
    {
     "name": "stdout",
     "output_type": "stream",
     "text": [
      "\n"
     ]
    }
   ],
   "source": [
    "rmse = get_rmse(training,testing)"
   ]
  },
  {
   "cell_type": "code",
   "execution_count": 9,
   "metadata": {},
   "outputs": [
    {
     "data": {
      "text/plain": [
       "0.8873045712332277"
      ]
     },
     "execution_count": 9,
     "metadata": {},
     "output_type": "execute_result"
    }
   ],
   "source": [
    "rmse"
   ]
  },
  {
   "cell_type": "markdown",
   "metadata": {},
   "source": [
    "# given 30"
   ]
  },
  {
   "cell_type": "code",
   "execution_count": 10,
   "metadata": {},
   "outputs": [],
   "source": [
    "training = pd.read_csv(\"processed/training-30.csv\")\n",
    "testing = pd.read_csv(\"processed/testing-30.csv\")\n",
    "given = testing.groupby(by=\"userId\").head(30)\n",
    "testing = testing[~testing.index.isin(given.index)]\n",
    "training = pd.concat([training,given])"
   ]
  },
  {
   "cell_type": "code",
   "execution_count": 11,
   "metadata": {},
   "outputs": [
    {
     "data": {
      "application/vnd.jupyter.widget-view+json": {
       "model_id": "568ea8a19c024cf79ab89f042a79821b",
       "version_major": 2,
       "version_minor": 0
      },
      "text/plain": [
       "HBox(children=(FloatProgress(value=0.0, max=500.0), HTML(value='')))"
      ]
     },
     "metadata": {},
     "output_type": "display_data"
    },
    {
     "name": "stdout",
     "output_type": "stream",
     "text": [
      "\n"
     ]
    },
    {
     "data": {
      "application/vnd.jupyter.widget-view+json": {
       "model_id": "21ac15ae2ec04d2d89b6cd32fc375997",
       "version_major": 2,
       "version_minor": 0
      },
      "text/plain": [
       "HBox(children=(FloatProgress(value=0.0, max=99292.0), HTML(value='')))"
      ]
     },
     "metadata": {},
     "output_type": "display_data"
    },
    {
     "name": "stdout",
     "output_type": "stream",
     "text": [
      "\n"
     ]
    }
   ],
   "source": [
    "rmse = get_rmse(training,testing)"
   ]
  },
  {
   "cell_type": "code",
   "execution_count": 12,
   "metadata": {},
   "outputs": [
    {
     "data": {
      "text/plain": [
       "0.8763322491232644"
      ]
     },
     "execution_count": 12,
     "metadata": {},
     "output_type": "execute_result"
    }
   ],
   "source": [
    "rmse"
   ]
  },
  {
   "cell_type": "markdown",
   "metadata": {},
   "source": [
    "# given 40"
   ]
  },
  {
   "cell_type": "code",
   "execution_count": 13,
   "metadata": {},
   "outputs": [],
   "source": [
    "training = pd.read_csv(\"processed/training-40.csv\")\n",
    "testing = pd.read_csv(\"processed/testing-40.csv\")\n",
    "given = testing.groupby(by=\"userId\").head(40)\n",
    "testing = testing[~testing.index.isin(given.index)]\n",
    "training = pd.concat([training,given])"
   ]
  },
  {
   "cell_type": "code",
   "execution_count": 14,
   "metadata": {},
   "outputs": [
    {
     "data": {
      "application/vnd.jupyter.widget-view+json": {
       "model_id": "79412322f5ee402cad948c63e99aa26f",
       "version_major": 2,
       "version_minor": 0
      },
      "text/plain": [
       "HBox(children=(FloatProgress(value=0.0, max=500.0), HTML(value='')))"
      ]
     },
     "metadata": {},
     "output_type": "display_data"
    },
    {
     "name": "stdout",
     "output_type": "stream",
     "text": [
      "\n"
     ]
    },
    {
     "data": {
      "application/vnd.jupyter.widget-view+json": {
       "model_id": "3b41c707c54e4bb8b73443ecad9dc574",
       "version_major": 2,
       "version_minor": 0
      },
      "text/plain": [
       "HBox(children=(FloatProgress(value=0.0, max=97973.0), HTML(value='')))"
      ]
     },
     "metadata": {},
     "output_type": "display_data"
    },
    {
     "name": "stdout",
     "output_type": "stream",
     "text": [
      "\n"
     ]
    }
   ],
   "source": [
    "rmse = get_rmse(training,testing)"
   ]
  },
  {
   "cell_type": "code",
   "execution_count": 15,
   "metadata": {},
   "outputs": [
    {
     "data": {
      "text/plain": [
       "0.8677786965392672"
      ]
     },
     "execution_count": 15,
     "metadata": {},
     "output_type": "execute_result"
    }
   ],
   "source": [
    "rmse"
   ]
  },
  {
   "cell_type": "markdown",
   "metadata": {},
   "source": [
    "# given 50"
   ]
  },
  {
   "cell_type": "code",
   "execution_count": 16,
   "metadata": {},
   "outputs": [],
   "source": [
    "training = pd.read_csv(\"processed/training-50.csv\")\n",
    "testing = pd.read_csv(\"processed/testing-50.csv\")\n",
    "given = testing.groupby(by=\"userId\").head(50)\n",
    "testing = testing[~testing.index.isin(given.index)]\n",
    "training = pd.concat([training,given])"
   ]
  },
  {
   "cell_type": "code",
   "execution_count": 17,
   "metadata": {},
   "outputs": [
    {
     "data": {
      "application/vnd.jupyter.widget-view+json": {
       "model_id": "294591eb89e24c03abb1984a4d5da40b",
       "version_major": 2,
       "version_minor": 0
      },
      "text/plain": [
       "HBox(children=(FloatProgress(value=0.0, max=500.0), HTML(value='')))"
      ]
     },
     "metadata": {},
     "output_type": "display_data"
    },
    {
     "name": "stdout",
     "output_type": "stream",
     "text": [
      "\n"
     ]
    },
    {
     "data": {
      "application/vnd.jupyter.widget-view+json": {
       "model_id": "21d3625f8760468ea513698965a2b69a",
       "version_major": 2,
       "version_minor": 0
      },
      "text/plain": [
       "HBox(children=(FloatProgress(value=0.0, max=99769.0), HTML(value='')))"
      ]
     },
     "metadata": {},
     "output_type": "display_data"
    },
    {
     "name": "stdout",
     "output_type": "stream",
     "text": [
      "\n"
     ]
    }
   ],
   "source": [
    "rmse = get_rmse(training,testing)"
   ]
  },
  {
   "cell_type": "code",
   "execution_count": 18,
   "metadata": {},
   "outputs": [
    {
     "data": {
      "text/plain": [
       "0.8490344903843372"
      ]
     },
     "execution_count": 18,
     "metadata": {},
     "output_type": "execute_result"
    }
   ],
   "source": [
    "rmse"
   ]
  },
  {
   "cell_type": "markdown",
   "metadata": {},
   "source": [
    "# given 60"
   ]
  },
  {
   "cell_type": "code",
   "execution_count": 19,
   "metadata": {},
   "outputs": [],
   "source": [
    "training = pd.read_csv(\"processed/training-60.csv\")\n",
    "testing = pd.read_csv(\"processed/testing-60.csv\")\n",
    "given = testing.groupby(by=\"userId\").head(60)\n",
    "testing = testing[~testing.index.isin(given.index)]\n",
    "training = pd.concat([training,given])"
   ]
  },
  {
   "cell_type": "code",
   "execution_count": 20,
   "metadata": {},
   "outputs": [
    {
     "data": {
      "application/vnd.jupyter.widget-view+json": {
       "model_id": "813c7652d60347c8a116d1c0b69381dc",
       "version_major": 2,
       "version_minor": 0
      },
      "text/plain": [
       "HBox(children=(FloatProgress(value=0.0, max=500.0), HTML(value='')))"
      ]
     },
     "metadata": {},
     "output_type": "display_data"
    },
    {
     "name": "stdout",
     "output_type": "stream",
     "text": [
      "\n"
     ]
    },
    {
     "data": {
      "application/vnd.jupyter.widget-view+json": {
       "model_id": "6e63204bdb7f4e84a4305f6454c4013c",
       "version_major": 2,
       "version_minor": 0
      },
      "text/plain": [
       "HBox(children=(FloatProgress(value=0.0, max=110569.0), HTML(value='')))"
      ]
     },
     "metadata": {},
     "output_type": "display_data"
    },
    {
     "name": "stdout",
     "output_type": "stream",
     "text": [
      "\n"
     ]
    }
   ],
   "source": [
    "rmse = get_rmse(training,testing)"
   ]
  },
  {
   "cell_type": "code",
   "execution_count": 21,
   "metadata": {},
   "outputs": [
    {
     "data": {
      "text/plain": [
       "0.8546562625828138"
      ]
     },
     "execution_count": 21,
     "metadata": {},
     "output_type": "execute_result"
    }
   ],
   "source": [
    "rmse"
   ]
  },
  {
   "cell_type": "markdown",
   "metadata": {},
   "source": [
    "# given 70"
   ]
  },
  {
   "cell_type": "code",
   "execution_count": 5,
   "metadata": {},
   "outputs": [],
   "source": [
    "training = pd.read_csv(\"processed/training-70.csv\")\n",
    "testing = pd.read_csv(\"processed/testing-70.csv\")\n",
    "given = testing.groupby(by=\"userId\").head(70)\n",
    "testing = testing[~testing.index.isin(given.index)]\n",
    "training = pd.concat([training,given])"
   ]
  },
  {
   "cell_type": "code",
   "execution_count": 6,
   "metadata": {},
   "outputs": [
    {
     "data": {
      "application/vnd.jupyter.widget-view+json": {
       "model_id": "6e71537d92ee44c484d4af3d782ea833",
       "version_major": 2,
       "version_minor": 0
      },
      "text/plain": [
       "HBox(children=(FloatProgress(value=0.0, max=500.0), HTML(value='')))"
      ]
     },
     "metadata": {},
     "output_type": "display_data"
    },
    {
     "name": "stderr",
     "output_type": "stream",
     "text": [
      "E:\\Anaconda3\\lib\\site-packages\\scipy\\spatial\\distance.py:720: RuntimeWarning: invalid value encountered in double_scalars\n",
      "  dist = 1.0 - uv / np.sqrt(uu * vv)\n"
     ]
    },
    {
     "name": "stdout",
     "output_type": "stream",
     "text": [
      "\n"
     ]
    },
    {
     "data": {
      "application/vnd.jupyter.widget-view+json": {
       "model_id": "a7ecc64aebb04f2a84be41b2e3469122",
       "version_major": 2,
       "version_minor": 0
      },
      "text/plain": [
       "HBox(children=(FloatProgress(value=0.0, max=99265.0), HTML(value='')))"
      ]
     },
     "metadata": {},
     "output_type": "display_data"
    },
    {
     "name": "stdout",
     "output_type": "stream",
     "text": [
      "\n"
     ]
    }
   ],
   "source": [
    "rmse = get_rmse(training,testing)"
   ]
  },
  {
   "cell_type": "code",
   "execution_count": 7,
   "metadata": {},
   "outputs": [
    {
     "data": {
      "text/plain": [
       "0.8787099129636838"
      ]
     },
     "execution_count": 7,
     "metadata": {},
     "output_type": "execute_result"
    }
   ],
   "source": [
    "rmse"
   ]
  },
  {
   "cell_type": "markdown",
   "metadata": {},
   "source": [
    "# given 80"
   ]
  },
  {
   "cell_type": "code",
   "execution_count": 8,
   "metadata": {},
   "outputs": [],
   "source": [
    "training = pd.read_csv(\"processed/training-80.csv\")\n",
    "testing = pd.read_csv(\"processed/testing-80.csv\")\n",
    "given = testing.groupby(by=\"userId\").head(80)\n",
    "testing = testing[~testing.index.isin(given.index)]\n",
    "training = pd.concat([training,given])"
   ]
  },
  {
   "cell_type": "code",
   "execution_count": 9,
   "metadata": {},
   "outputs": [
    {
     "data": {
      "application/vnd.jupyter.widget-view+json": {
       "model_id": "b4eb5ef42d1040bdab6157eff3fa60fb",
       "version_major": 2,
       "version_minor": 0
      },
      "text/plain": [
       "HBox(children=(FloatProgress(value=0.0, max=500.0), HTML(value='')))"
      ]
     },
     "metadata": {},
     "output_type": "display_data"
    },
    {
     "name": "stdout",
     "output_type": "stream",
     "text": [
      "\n"
     ]
    },
    {
     "data": {
      "application/vnd.jupyter.widget-view+json": {
       "model_id": "c23179ea9441498dbb51ed34e3fb657c",
       "version_major": 2,
       "version_minor": 0
      },
      "text/plain": [
       "HBox(children=(FloatProgress(value=0.0, max=107315.0), HTML(value='')))"
      ]
     },
     "metadata": {},
     "output_type": "display_data"
    },
    {
     "name": "stdout",
     "output_type": "stream",
     "text": [
      "\n"
     ]
    }
   ],
   "source": [
    "rmse = get_rmse(training,testing)"
   ]
  },
  {
   "cell_type": "code",
   "execution_count": 10,
   "metadata": {},
   "outputs": [
    {
     "data": {
      "text/plain": [
       "0.8576811479029862"
      ]
     },
     "execution_count": 10,
     "metadata": {},
     "output_type": "execute_result"
    }
   ],
   "source": [
    "rmse"
   ]
  },
  {
   "cell_type": "markdown",
   "metadata": {},
   "source": [
    "# given 90"
   ]
  },
  {
   "cell_type": "code",
   "execution_count": 11,
   "metadata": {},
   "outputs": [],
   "source": [
    "training = pd.read_csv(\"processed/training-90.csv\")\n",
    "testing = pd.read_csv(\"processed/testing-90.csv\")\n",
    "given = testing.groupby(by=\"userId\").head(90)\n",
    "testing = testing[~testing.index.isin(given.index)]\n",
    "training = pd.concat([training,given])"
   ]
  },
  {
   "cell_type": "code",
   "execution_count": 12,
   "metadata": {},
   "outputs": [
    {
     "data": {
      "application/vnd.jupyter.widget-view+json": {
       "model_id": "903c0789708a43f28263787332774b61",
       "version_major": 2,
       "version_minor": 0
      },
      "text/plain": [
       "HBox(children=(FloatProgress(value=0.0, max=500.0), HTML(value='')))"
      ]
     },
     "metadata": {},
     "output_type": "display_data"
    },
    {
     "name": "stdout",
     "output_type": "stream",
     "text": [
      "\n"
     ]
    },
    {
     "data": {
      "application/vnd.jupyter.widget-view+json": {
       "model_id": "4eaad7d2633248ea978d253a2e5dc5b5",
       "version_major": 2,
       "version_minor": 0
      },
      "text/plain": [
       "HBox(children=(FloatProgress(value=0.0, max=99664.0), HTML(value='')))"
      ]
     },
     "metadata": {},
     "output_type": "display_data"
    },
    {
     "name": "stdout",
     "output_type": "stream",
     "text": [
      "\n"
     ]
    }
   ],
   "source": [
    "rmse = get_rmse(training,testing)"
   ]
  },
  {
   "cell_type": "code",
   "execution_count": 13,
   "metadata": {},
   "outputs": [
    {
     "data": {
      "text/plain": [
       "0.8490443001348339"
      ]
     },
     "execution_count": 13,
     "metadata": {},
     "output_type": "execute_result"
    }
   ],
   "source": [
    "rmse"
   ]
  },
  {
   "cell_type": "markdown",
   "metadata": {},
   "source": [
    "# given 100"
   ]
  },
  {
   "cell_type": "code",
   "execution_count": 14,
   "metadata": {},
   "outputs": [],
   "source": [
    "training = pd.read_csv(\"processed/training-100.csv\")\n",
    "testing = pd.read_csv(\"processed/testing-100.csv\")\n",
    "given = testing.groupby(by=\"userId\").head(100)\n",
    "testing = testing[~testing.index.isin(given.index)]\n",
    "training = pd.concat([training,given])"
   ]
  },
  {
   "cell_type": "code",
   "execution_count": 15,
   "metadata": {},
   "outputs": [
    {
     "data": {
      "application/vnd.jupyter.widget-view+json": {
       "model_id": "29ec2dbc9bd74c0cb97296ca929b63a1",
       "version_major": 2,
       "version_minor": 0
      },
      "text/plain": [
       "HBox(children=(FloatProgress(value=0.0, max=500.0), HTML(value='')))"
      ]
     },
     "metadata": {},
     "output_type": "display_data"
    },
    {
     "name": "stdout",
     "output_type": "stream",
     "text": [
      "\n"
     ]
    },
    {
     "data": {
      "application/vnd.jupyter.widget-view+json": {
       "model_id": "b8d57f247e184113a470798c4404d7b5",
       "version_major": 2,
       "version_minor": 0
      },
      "text/plain": [
       "HBox(children=(FloatProgress(value=0.0, max=104375.0), HTML(value='')))"
      ]
     },
     "metadata": {},
     "output_type": "display_data"
    },
    {
     "name": "stdout",
     "output_type": "stream",
     "text": [
      "\n"
     ]
    }
   ],
   "source": [
    "rmse = get_rmse(training,testing)"
   ]
  },
  {
   "cell_type": "code",
   "execution_count": 16,
   "metadata": {},
   "outputs": [
    {
     "data": {
      "text/plain": [
       "0.8717039889829028"
      ]
     },
     "execution_count": 16,
     "metadata": {},
     "output_type": "execute_result"
    }
   ],
   "source": [
    "rmse"
   ]
  },
  {
   "cell_type": "code",
   "execution_count": null,
   "metadata": {},
   "outputs": [],
   "source": []
  }
 ],
 "metadata": {
  "kernelspec": {
   "display_name": "Python 3",
   "language": "python",
   "name": "python3"
  },
  "language_info": {
   "codemirror_mode": {
    "name": "ipython",
    "version": 3
   },
   "file_extension": ".py",
   "mimetype": "text/x-python",
   "name": "python",
   "nbconvert_exporter": "python",
   "pygments_lexer": "ipython3",
   "version": "3.7.6"
  }
 },
 "nbformat": 4,
 "nbformat_minor": 4
}
