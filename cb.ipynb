{
 "cells": [
  {
   "cell_type": "code",
   "execution_count": null,
   "metadata": {},
   "outputs": [],
   "source": [
    "from tqdm.notebook import tqdm\n",
    "import pandas as pd\n",
    "from ast import literal_eval\n",
    "import numpy as np\n",
    "import math"
   ]
  },
  {
   "cell_type": "code",
   "execution_count": null,
   "metadata": {},
   "outputs": [],
   "source": [
    "df = pd.read_csv(\"data/movies_metadata.csv\")"
   ]
  },
  {
   "cell_type": "code",
   "execution_count": null,
   "metadata": {},
   "outputs": [],
   "source": [
    "df = df[['id','genres']]\n",
    "df = df.drop([19730, 29503, 35587])\n",
    "df['id'] = df['id'].astype('int')\n",
    "\n",
    "df['genres'] = df['genres'].fillna('[]').apply(literal_eval).apply(lambda x: [i['name'] for i in x] if isinstance(x, list) else [])\n",
    "profile = []\n",
    "for i in df.index:\n",
    "    for g in df['genres'][i]:\n",
    "        if g not in profile:\n",
    "            profile.append(g)\n",
    "credits = pd.read_csv(\"data/credits.csv\")\n",
    "credits['id'] = credits['id'].astype('int')\n",
    "df = df.merge(credits, on='id')\n",
    "\n",
    "def find_director(crew):\n",
    "    for i in crew:\n",
    "        if i['job'] == 'Director':\n",
    "            return i['name']\n",
    "    return np.nan\n",
    "\n",
    "#convert cast column into list type\n",
    "df['cast'] = df['cast'].apply(literal_eval)\n",
    "#extract only the name of the cast\n",
    "df['cast'] = df['cast'].apply(lambda x: [i['name'] for i in x] if isinstance(x, list) else [])\n",
    "#select the first three actors\n",
    "df['cast'] = df['cast'].apply(lambda x: x[:3] if len(x) >=3 else x)\n",
    "#convert crew column into list\n",
    "df['crew'] = df['crew'].apply(literal_eval)\n",
    "#extract the name of director\n",
    "df['director'] = df['crew'].apply(find_director)\n",
    "#convert the names into lower case and join string\n",
    "df['cast'] = df['cast'].apply(lambda x: [str.lower(i.replace(\" \", \"\")) for i in x])\n",
    "df['director'] = df['director'].astype('str').apply(lambda x: str.lower(x.replace(\" \", \"\")))\n",
    "\n",
    "df = df.drop(columns=['crew'])\n",
    "for i in df.index:\n",
    "    for g in df['cast'][i]:\n",
    "        if g not in profile:\n",
    "            profile.append(g)\n",
    "    if df['director'][i] not in profile:\n",
    "        profile.append(df['director'][i])\n",
    "profile_df = pd.DataFrame(profile, columns=[\"profile\"])\n",
    "profile_df.to_csv('profile.csv', index=False)"
   ]
  },
  {
   "cell_type": "code",
   "execution_count": null,
   "metadata": {},
   "outputs": [],
   "source": [
    "df"
   ]
  },
  {
   "cell_type": "code",
   "execution_count": null,
   "metadata": {},
   "outputs": [],
   "source": [
    "#df['features'] = df['genres'].astype(str) + df['cast'].astype(str) + df['director']"
   ]
  },
  {
   "cell_type": "code",
   "execution_count": 6,
   "metadata": {},
   "outputs": [],
   "source": [
    "def convert_to_flat(temp):\n",
    "    flat_list = []\n",
    "    for i in temp[1]:\n",
    "        flat_list.append(i)\n",
    "    for j in temp[2]:\n",
    "        flat_list.append(j)\n",
    "    flat_list.append(temp[3])    \n",
    "    return flat_list"
   ]
  },
  {
   "cell_type": "code",
   "execution_count": 7,
   "metadata": {},
   "outputs": [],
   "source": [
    "features = []\n",
    "for index, row in df.iterrows():\n",
    "    temp = row.to_list()\n",
    "    flat_list = convert_to_flat(temp)\n",
    "    features.append(flat_list)\n",
    "df['features'] = features\n",
    "df['features'] = df['features'].astype(str)"
   ]
  },
  {
   "cell_type": "code",
   "execution_count": 8,
   "metadata": {},
   "outputs": [
    {
     "data": {
      "text/html": [
       "<div>\n",
       "<style scoped>\n",
       "    .dataframe tbody tr th:only-of-type {\n",
       "        vertical-align: middle;\n",
       "    }\n",
       "\n",
       "    .dataframe tbody tr th {\n",
       "        vertical-align: top;\n",
       "    }\n",
       "\n",
       "    .dataframe thead th {\n",
       "        text-align: right;\n",
       "    }\n",
       "</style>\n",
       "<table border=\"1\" class=\"dataframe\">\n",
       "  <thead>\n",
       "    <tr style=\"text-align: right;\">\n",
       "      <th></th>\n",
       "      <th>id</th>\n",
       "      <th>genres</th>\n",
       "      <th>cast</th>\n",
       "      <th>director</th>\n",
       "      <th>features</th>\n",
       "    </tr>\n",
       "  </thead>\n",
       "  <tbody>\n",
       "    <tr>\n",
       "      <th>0</th>\n",
       "      <td>862</td>\n",
       "      <td>[Animation, Comedy, Family]</td>\n",
       "      <td>[tomhanks, timallen, donrickles]</td>\n",
       "      <td>johnlasseter</td>\n",
       "      <td>['Animation', 'Comedy', 'Family', 'tomhanks', ...</td>\n",
       "    </tr>\n",
       "    <tr>\n",
       "      <th>1</th>\n",
       "      <td>8844</td>\n",
       "      <td>[Adventure, Fantasy, Family]</td>\n",
       "      <td>[robinwilliams, jonathanhyde, kirstendunst]</td>\n",
       "      <td>joejohnston</td>\n",
       "      <td>['Adventure', 'Fantasy', 'Family', 'robinwilli...</td>\n",
       "    </tr>\n",
       "    <tr>\n",
       "      <th>2</th>\n",
       "      <td>15602</td>\n",
       "      <td>[Romance, Comedy]</td>\n",
       "      <td>[waltermatthau, jacklemmon, ann-margret]</td>\n",
       "      <td>howarddeutch</td>\n",
       "      <td>['Romance', 'Comedy', 'waltermatthau', 'jackle...</td>\n",
       "    </tr>\n",
       "    <tr>\n",
       "      <th>3</th>\n",
       "      <td>31357</td>\n",
       "      <td>[Comedy, Drama, Romance]</td>\n",
       "      <td>[whitneyhouston, angelabassett, lorettadevine]</td>\n",
       "      <td>forestwhitaker</td>\n",
       "      <td>['Comedy', 'Drama', 'Romance', 'whitneyhouston...</td>\n",
       "    </tr>\n",
       "    <tr>\n",
       "      <th>4</th>\n",
       "      <td>11862</td>\n",
       "      <td>[Comedy]</td>\n",
       "      <td>[stevemartin, dianekeaton, martinshort]</td>\n",
       "      <td>charlesshyer</td>\n",
       "      <td>['Comedy', 'stevemartin', 'dianekeaton', 'mart...</td>\n",
       "    </tr>\n",
       "    <tr>\n",
       "      <th>...</th>\n",
       "      <td>...</td>\n",
       "      <td>...</td>\n",
       "      <td>...</td>\n",
       "      <td>...</td>\n",
       "      <td>...</td>\n",
       "    </tr>\n",
       "    <tr>\n",
       "      <th>45533</th>\n",
       "      <td>439050</td>\n",
       "      <td>[Drama, Family]</td>\n",
       "      <td>[leilahatami, kouroshtahami, elhamkorda]</td>\n",
       "      <td>hamidnematollah</td>\n",
       "      <td>['Drama', 'Family', 'leilahatami', 'kouroshtah...</td>\n",
       "    </tr>\n",
       "    <tr>\n",
       "      <th>45534</th>\n",
       "      <td>111109</td>\n",
       "      <td>[Drama]</td>\n",
       "      <td>[angelaquino, perrydizon, hazelorencio]</td>\n",
       "      <td>lavdiaz</td>\n",
       "      <td>['Drama', 'angelaquino', 'perrydizon', 'hazelo...</td>\n",
       "    </tr>\n",
       "    <tr>\n",
       "      <th>45535</th>\n",
       "      <td>67758</td>\n",
       "      <td>[Action, Drama, Thriller]</td>\n",
       "      <td>[erikaeleniak, adambaldwin, juliedupage]</td>\n",
       "      <td>markl.lester</td>\n",
       "      <td>['Action', 'Drama', 'Thriller', 'erikaeleniak'...</td>\n",
       "    </tr>\n",
       "    <tr>\n",
       "      <th>45536</th>\n",
       "      <td>227506</td>\n",
       "      <td>[]</td>\n",
       "      <td>[iwanmosschuchin, nathalielissenko, pavelpavlov]</td>\n",
       "      <td>yakovprotazanov</td>\n",
       "      <td>['iwanmosschuchin', 'nathalielissenko', 'pavel...</td>\n",
       "    </tr>\n",
       "    <tr>\n",
       "      <th>45537</th>\n",
       "      <td>461257</td>\n",
       "      <td>[]</td>\n",
       "      <td>[]</td>\n",
       "      <td>daisyasquith</td>\n",
       "      <td>['daisyasquith']</td>\n",
       "    </tr>\n",
       "  </tbody>\n",
       "</table>\n",
       "<p>45538 rows × 5 columns</p>\n",
       "</div>"
      ],
      "text/plain": [
       "           id                        genres  \\\n",
       "0         862   [Animation, Comedy, Family]   \n",
       "1        8844  [Adventure, Fantasy, Family]   \n",
       "2       15602             [Romance, Comedy]   \n",
       "3       31357      [Comedy, Drama, Romance]   \n",
       "4       11862                      [Comedy]   \n",
       "...       ...                           ...   \n",
       "45533  439050               [Drama, Family]   \n",
       "45534  111109                       [Drama]   \n",
       "45535   67758     [Action, Drama, Thriller]   \n",
       "45536  227506                            []   \n",
       "45537  461257                            []   \n",
       "\n",
       "                                                   cast         director  \\\n",
       "0                      [tomhanks, timallen, donrickles]     johnlasseter   \n",
       "1           [robinwilliams, jonathanhyde, kirstendunst]      joejohnston   \n",
       "2              [waltermatthau, jacklemmon, ann-margret]     howarddeutch   \n",
       "3        [whitneyhouston, angelabassett, lorettadevine]   forestwhitaker   \n",
       "4               [stevemartin, dianekeaton, martinshort]     charlesshyer   \n",
       "...                                                 ...              ...   \n",
       "45533          [leilahatami, kouroshtahami, elhamkorda]  hamidnematollah   \n",
       "45534           [angelaquino, perrydizon, hazelorencio]          lavdiaz   \n",
       "45535          [erikaeleniak, adambaldwin, juliedupage]     markl.lester   \n",
       "45536  [iwanmosschuchin, nathalielissenko, pavelpavlov]  yakovprotazanov   \n",
       "45537                                                []     daisyasquith   \n",
       "\n",
       "                                                features  \n",
       "0      ['Animation', 'Comedy', 'Family', 'tomhanks', ...  \n",
       "1      ['Adventure', 'Fantasy', 'Family', 'robinwilli...  \n",
       "2      ['Romance', 'Comedy', 'waltermatthau', 'jackle...  \n",
       "3      ['Comedy', 'Drama', 'Romance', 'whitneyhouston...  \n",
       "4      ['Comedy', 'stevemartin', 'dianekeaton', 'mart...  \n",
       "...                                                  ...  \n",
       "45533  ['Drama', 'Family', 'leilahatami', 'kouroshtah...  \n",
       "45534  ['Drama', 'angelaquino', 'perrydizon', 'hazelo...  \n",
       "45535  ['Action', 'Drama', 'Thriller', 'erikaeleniak'...  \n",
       "45536  ['iwanmosschuchin', 'nathalielissenko', 'pavel...  \n",
       "45537                                   ['daisyasquith']  \n",
       "\n",
       "[45538 rows x 5 columns]"
      ]
     },
     "execution_count": 8,
     "metadata": {},
     "output_type": "execute_result"
    }
   ],
   "source": [
    "df"
   ]
  },
  {
   "cell_type": "code",
   "execution_count": 9,
   "metadata": {},
   "outputs": [],
   "source": [
    "from sklearn.feature_extraction.text import TfidfVectorizer\n",
    "from sklearn.metrics.pairwise import cosine_similarity"
   ]
  },
  {
   "cell_type": "code",
   "execution_count": 12,
   "metadata": {},
   "outputs": [],
   "source": [
    "tf_idf = TfidfVectorizer()\n",
    "tf_idf_result = tf_idf.fit_transform(df.features)\n",
    "sim = cosine_similarity(tf_idf_result)\n",
    "sim_df = pd.DataFrame(sim)"
   ]
  },
  {
   "cell_type": "code",
   "execution_count": 13,
   "metadata": {},
   "outputs": [
    {
     "data": {
      "text/html": [
       "<div>\n",
       "<style scoped>\n",
       "    .dataframe tbody tr th:only-of-type {\n",
       "        vertical-align: middle;\n",
       "    }\n",
       "\n",
       "    .dataframe tbody tr th {\n",
       "        vertical-align: top;\n",
       "    }\n",
       "\n",
       "    .dataframe thead th {\n",
       "        text-align: right;\n",
       "    }\n",
       "</style>\n",
       "<table border=\"1\" class=\"dataframe\">\n",
       "  <thead>\n",
       "    <tr style=\"text-align: right;\">\n",
       "      <th></th>\n",
       "      <th>0</th>\n",
       "      <th>1</th>\n",
       "      <th>2</th>\n",
       "      <th>3</th>\n",
       "      <th>4</th>\n",
       "      <th>5</th>\n",
       "      <th>6</th>\n",
       "      <th>7</th>\n",
       "      <th>8</th>\n",
       "      <th>9</th>\n",
       "      <th>...</th>\n",
       "      <th>45528</th>\n",
       "      <th>45529</th>\n",
       "      <th>45530</th>\n",
       "      <th>45531</th>\n",
       "      <th>45532</th>\n",
       "      <th>45533</th>\n",
       "      <th>45534</th>\n",
       "      <th>45535</th>\n",
       "      <th>45536</th>\n",
       "      <th>45537</th>\n",
       "    </tr>\n",
       "  </thead>\n",
       "  <tbody>\n",
       "    <tr>\n",
       "      <th>0</th>\n",
       "      <td>1.000000</td>\n",
       "      <td>0.040437</td>\n",
       "      <td>0.014214</td>\n",
       "      <td>0.014633</td>\n",
       "      <td>0.015325</td>\n",
       "      <td>0.000000</td>\n",
       "      <td>0.015525</td>\n",
       "      <td>0.039502</td>\n",
       "      <td>0.000000</td>\n",
       "      <td>0.000000</td>\n",
       "      <td>...</td>\n",
       "      <td>0.000000</td>\n",
       "      <td>0.0</td>\n",
       "      <td>0.0</td>\n",
       "      <td>0.0</td>\n",
       "      <td>0.000000</td>\n",
       "      <td>0.035121</td>\n",
       "      <td>0.000000</td>\n",
       "      <td>0.000000</td>\n",
       "      <td>0.0</td>\n",
       "      <td>0.0</td>\n",
       "    </tr>\n",
       "    <tr>\n",
       "      <th>1</th>\n",
       "      <td>0.040437</td>\n",
       "      <td>1.000000</td>\n",
       "      <td>0.000000</td>\n",
       "      <td>0.000000</td>\n",
       "      <td>0.000000</td>\n",
       "      <td>0.000000</td>\n",
       "      <td>0.000000</td>\n",
       "      <td>0.072366</td>\n",
       "      <td>0.034061</td>\n",
       "      <td>0.036247</td>\n",
       "      <td>...</td>\n",
       "      <td>0.000000</td>\n",
       "      <td>0.0</td>\n",
       "      <td>0.0</td>\n",
       "      <td>0.0</td>\n",
       "      <td>0.000000</td>\n",
       "      <td>0.034213</td>\n",
       "      <td>0.000000</td>\n",
       "      <td>0.000000</td>\n",
       "      <td>0.0</td>\n",
       "      <td>0.0</td>\n",
       "    </tr>\n",
       "    <tr>\n",
       "      <th>2</th>\n",
       "      <td>0.014214</td>\n",
       "      <td>0.000000</td>\n",
       "      <td>1.000000</td>\n",
       "      <td>0.038771</td>\n",
       "      <td>0.015100</td>\n",
       "      <td>0.000000</td>\n",
       "      <td>0.041135</td>\n",
       "      <td>0.000000</td>\n",
       "      <td>0.000000</td>\n",
       "      <td>0.000000</td>\n",
       "      <td>...</td>\n",
       "      <td>0.000000</td>\n",
       "      <td>0.0</td>\n",
       "      <td>0.0</td>\n",
       "      <td>0.0</td>\n",
       "      <td>0.025023</td>\n",
       "      <td>0.000000</td>\n",
       "      <td>0.000000</td>\n",
       "      <td>0.000000</td>\n",
       "      <td>0.0</td>\n",
       "      <td>0.0</td>\n",
       "    </tr>\n",
       "    <tr>\n",
       "      <th>3</th>\n",
       "      <td>0.014633</td>\n",
       "      <td>0.000000</td>\n",
       "      <td>0.038771</td>\n",
       "      <td>1.000000</td>\n",
       "      <td>0.015544</td>\n",
       "      <td>0.010447</td>\n",
       "      <td>0.042346</td>\n",
       "      <td>0.009076</td>\n",
       "      <td>0.000000</td>\n",
       "      <td>0.000000</td>\n",
       "      <td>...</td>\n",
       "      <td>0.000000</td>\n",
       "      <td>0.0</td>\n",
       "      <td>0.0</td>\n",
       "      <td>0.0</td>\n",
       "      <td>0.035700</td>\n",
       "      <td>0.008070</td>\n",
       "      <td>0.008270</td>\n",
       "      <td>0.007986</td>\n",
       "      <td>0.0</td>\n",
       "      <td>0.0</td>\n",
       "    </tr>\n",
       "    <tr>\n",
       "      <th>4</th>\n",
       "      <td>0.015325</td>\n",
       "      <td>0.000000</td>\n",
       "      <td>0.015100</td>\n",
       "      <td>0.015544</td>\n",
       "      <td>1.000000</td>\n",
       "      <td>0.000000</td>\n",
       "      <td>0.016492</td>\n",
       "      <td>0.000000</td>\n",
       "      <td>0.000000</td>\n",
       "      <td>0.000000</td>\n",
       "      <td>...</td>\n",
       "      <td>0.000000</td>\n",
       "      <td>0.0</td>\n",
       "      <td>0.0</td>\n",
       "      <td>0.0</td>\n",
       "      <td>0.000000</td>\n",
       "      <td>0.000000</td>\n",
       "      <td>0.000000</td>\n",
       "      <td>0.000000</td>\n",
       "      <td>0.0</td>\n",
       "      <td>0.0</td>\n",
       "    </tr>\n",
       "    <tr>\n",
       "      <th>...</th>\n",
       "      <td>...</td>\n",
       "      <td>...</td>\n",
       "      <td>...</td>\n",
       "      <td>...</td>\n",
       "      <td>...</td>\n",
       "      <td>...</td>\n",
       "      <td>...</td>\n",
       "      <td>...</td>\n",
       "      <td>...</td>\n",
       "      <td>...</td>\n",
       "      <td>...</td>\n",
       "      <td>...</td>\n",
       "      <td>...</td>\n",
       "      <td>...</td>\n",
       "      <td>...</td>\n",
       "      <td>...</td>\n",
       "      <td>...</td>\n",
       "      <td>...</td>\n",
       "      <td>...</td>\n",
       "      <td>...</td>\n",
       "      <td>...</td>\n",
       "    </tr>\n",
       "    <tr>\n",
       "      <th>45533</th>\n",
       "      <td>0.035121</td>\n",
       "      <td>0.034213</td>\n",
       "      <td>0.000000</td>\n",
       "      <td>0.008070</td>\n",
       "      <td>0.000000</td>\n",
       "      <td>0.008714</td>\n",
       "      <td>0.000000</td>\n",
       "      <td>0.040993</td>\n",
       "      <td>0.000000</td>\n",
       "      <td>0.000000</td>\n",
       "      <td>...</td>\n",
       "      <td>0.000000</td>\n",
       "      <td>0.0</td>\n",
       "      <td>0.0</td>\n",
       "      <td>0.0</td>\n",
       "      <td>0.008292</td>\n",
       "      <td>1.000000</td>\n",
       "      <td>0.006899</td>\n",
       "      <td>0.006661</td>\n",
       "      <td>0.0</td>\n",
       "      <td>0.0</td>\n",
       "    </tr>\n",
       "    <tr>\n",
       "      <th>45534</th>\n",
       "      <td>0.000000</td>\n",
       "      <td>0.000000</td>\n",
       "      <td>0.000000</td>\n",
       "      <td>0.008270</td>\n",
       "      <td>0.000000</td>\n",
       "      <td>0.008930</td>\n",
       "      <td>0.000000</td>\n",
       "      <td>0.007759</td>\n",
       "      <td>0.000000</td>\n",
       "      <td>0.000000</td>\n",
       "      <td>...</td>\n",
       "      <td>0.000000</td>\n",
       "      <td>0.0</td>\n",
       "      <td>0.0</td>\n",
       "      <td>0.0</td>\n",
       "      <td>0.008497</td>\n",
       "      <td>0.006899</td>\n",
       "      <td>1.000000</td>\n",
       "      <td>0.006827</td>\n",
       "      <td>0.0</td>\n",
       "      <td>0.0</td>\n",
       "    </tr>\n",
       "    <tr>\n",
       "      <th>45535</th>\n",
       "      <td>0.000000</td>\n",
       "      <td>0.000000</td>\n",
       "      <td>0.000000</td>\n",
       "      <td>0.007986</td>\n",
       "      <td>0.000000</td>\n",
       "      <td>0.051770</td>\n",
       "      <td>0.000000</td>\n",
       "      <td>0.027188</td>\n",
       "      <td>0.037683</td>\n",
       "      <td>0.040101</td>\n",
       "      <td>...</td>\n",
       "      <td>0.017216</td>\n",
       "      <td>0.0</td>\n",
       "      <td>0.0</td>\n",
       "      <td>0.0</td>\n",
       "      <td>0.029775</td>\n",
       "      <td>0.006661</td>\n",
       "      <td>0.006827</td>\n",
       "      <td>1.000000</td>\n",
       "      <td>0.0</td>\n",
       "      <td>0.0</td>\n",
       "    </tr>\n",
       "    <tr>\n",
       "      <th>45536</th>\n",
       "      <td>0.000000</td>\n",
       "      <td>0.000000</td>\n",
       "      <td>0.000000</td>\n",
       "      <td>0.000000</td>\n",
       "      <td>0.000000</td>\n",
       "      <td>0.000000</td>\n",
       "      <td>0.000000</td>\n",
       "      <td>0.000000</td>\n",
       "      <td>0.000000</td>\n",
       "      <td>0.000000</td>\n",
       "      <td>...</td>\n",
       "      <td>0.000000</td>\n",
       "      <td>0.0</td>\n",
       "      <td>0.0</td>\n",
       "      <td>0.0</td>\n",
       "      <td>0.000000</td>\n",
       "      <td>0.000000</td>\n",
       "      <td>0.000000</td>\n",
       "      <td>0.000000</td>\n",
       "      <td>1.0</td>\n",
       "      <td>0.0</td>\n",
       "    </tr>\n",
       "    <tr>\n",
       "      <th>45537</th>\n",
       "      <td>0.000000</td>\n",
       "      <td>0.000000</td>\n",
       "      <td>0.000000</td>\n",
       "      <td>0.000000</td>\n",
       "      <td>0.000000</td>\n",
       "      <td>0.000000</td>\n",
       "      <td>0.000000</td>\n",
       "      <td>0.000000</td>\n",
       "      <td>0.000000</td>\n",
       "      <td>0.000000</td>\n",
       "      <td>...</td>\n",
       "      <td>0.000000</td>\n",
       "      <td>0.0</td>\n",
       "      <td>0.0</td>\n",
       "      <td>0.0</td>\n",
       "      <td>0.000000</td>\n",
       "      <td>0.000000</td>\n",
       "      <td>0.000000</td>\n",
       "      <td>0.000000</td>\n",
       "      <td>0.0</td>\n",
       "      <td>1.0</td>\n",
       "    </tr>\n",
       "  </tbody>\n",
       "</table>\n",
       "<p>45538 rows × 45538 columns</p>\n",
       "</div>"
      ],
      "text/plain": [
       "          0         1         2         3         4         5         6      \\\n",
       "0      1.000000  0.040437  0.014214  0.014633  0.015325  0.000000  0.015525   \n",
       "1      0.040437  1.000000  0.000000  0.000000  0.000000  0.000000  0.000000   \n",
       "2      0.014214  0.000000  1.000000  0.038771  0.015100  0.000000  0.041135   \n",
       "3      0.014633  0.000000  0.038771  1.000000  0.015544  0.010447  0.042346   \n",
       "4      0.015325  0.000000  0.015100  0.015544  1.000000  0.000000  0.016492   \n",
       "...         ...       ...       ...       ...       ...       ...       ...   \n",
       "45533  0.035121  0.034213  0.000000  0.008070  0.000000  0.008714  0.000000   \n",
       "45534  0.000000  0.000000  0.000000  0.008270  0.000000  0.008930  0.000000   \n",
       "45535  0.000000  0.000000  0.000000  0.007986  0.000000  0.051770  0.000000   \n",
       "45536  0.000000  0.000000  0.000000  0.000000  0.000000  0.000000  0.000000   \n",
       "45537  0.000000  0.000000  0.000000  0.000000  0.000000  0.000000  0.000000   \n",
       "\n",
       "          7         8         9      ...     45528  45529  45530  45531  \\\n",
       "0      0.039502  0.000000  0.000000  ...  0.000000    0.0    0.0    0.0   \n",
       "1      0.072366  0.034061  0.036247  ...  0.000000    0.0    0.0    0.0   \n",
       "2      0.000000  0.000000  0.000000  ...  0.000000    0.0    0.0    0.0   \n",
       "3      0.009076  0.000000  0.000000  ...  0.000000    0.0    0.0    0.0   \n",
       "4      0.000000  0.000000  0.000000  ...  0.000000    0.0    0.0    0.0   \n",
       "...         ...       ...       ...  ...       ...    ...    ...    ...   \n",
       "45533  0.040993  0.000000  0.000000  ...  0.000000    0.0    0.0    0.0   \n",
       "45534  0.007759  0.000000  0.000000  ...  0.000000    0.0    0.0    0.0   \n",
       "45535  0.027188  0.037683  0.040101  ...  0.017216    0.0    0.0    0.0   \n",
       "45536  0.000000  0.000000  0.000000  ...  0.000000    0.0    0.0    0.0   \n",
       "45537  0.000000  0.000000  0.000000  ...  0.000000    0.0    0.0    0.0   \n",
       "\n",
       "          45532     45533     45534     45535  45536  45537  \n",
       "0      0.000000  0.035121  0.000000  0.000000    0.0    0.0  \n",
       "1      0.000000  0.034213  0.000000  0.000000    0.0    0.0  \n",
       "2      0.025023  0.000000  0.000000  0.000000    0.0    0.0  \n",
       "3      0.035700  0.008070  0.008270  0.007986    0.0    0.0  \n",
       "4      0.000000  0.000000  0.000000  0.000000    0.0    0.0  \n",
       "...         ...       ...       ...       ...    ...    ...  \n",
       "45533  0.008292  1.000000  0.006899  0.006661    0.0    0.0  \n",
       "45534  0.008497  0.006899  1.000000  0.006827    0.0    0.0  \n",
       "45535  0.029775  0.006661  0.006827  1.000000    0.0    0.0  \n",
       "45536  0.000000  0.000000  0.000000  0.000000    1.0    0.0  \n",
       "45537  0.000000  0.000000  0.000000  0.000000    0.0    1.0  \n",
       "\n",
       "[45538 rows x 45538 columns]"
      ]
     },
     "execution_count": 13,
     "metadata": {},
     "output_type": "execute_result"
    }
   ],
   "source": [
    "sim_df"
   ]
  },
  {
   "cell_type": "code",
   "execution_count": 47,
   "metadata": {},
   "outputs": [],
   "source": [
    "check_lst = df.id.to_list()\n",
    "given = []\n",
    "neighbor_dict = {}"
   ]
  },
  {
   "cell_type": "code",
   "execution_count": null,
   "metadata": {},
   "outputs": [],
   "source": []
  },
  {
   "cell_type": "code",
   "execution_count": 48,
   "metadata": {},
   "outputs": [],
   "source": [
    "def find_best_k_except_self(l,k,s):\n",
    "    # find best k in l \n",
    "    result = []\n",
    "    avoid = []\n",
    "    for _ in range(k):\n",
    "        min_value = np.NINF\n",
    "        min_index = -1\n",
    "        for i in range(len(l)):\n",
    "            if i not in avoid and l[i] > min_value and i != s:\n",
    "                min_value = l[i]\n",
    "                min_index = i\n",
    "        if min_index != -1:\n",
    "            result.append(min_index)\n",
    "            avoid.append(min_value)\n",
    "    return result"
   ]
  },
  {
   "cell_type": "code",
   "execution_count": 49,
   "metadata": {},
   "outputs": [],
   "source": [
    "def predictionv2(user_id, movie_id):\n",
    "    global given\n",
    "    user_ratings = given[given['userId'] == user_id]\n",
    "    movie_lst = user_ratings['movieId'].to_list()\n",
    "    user_avg = user_ratings['rating'].mean()\n",
    "    movie_index = check_lst.index(movie_id)\n",
    "    sim = sim_df[movie_index]\n",
    "    \n",
    "    neighbors = sim_df.iloc[movie_index].nlargest(6).index.tolist()\n",
    "    if movie_index in neighbors:\n",
    "        neighbors.remove(movie_index)\n",
    "    \n",
    "    top,bottom = 0,0\n",
    "    for n in neighbors:\n",
    "        n_id = check_lst[n]\n",
    "        if n_id in movie_lst:\n",
    "            top += sim[n] * (user_ratings[user_ratings['movieId'] == n_id].iloc[0].rating - user_avg)\n",
    "#         top += sim[n] * user_ratings[user_ratings['movieId'] == n].iloc[0].rating\n",
    "        bottom += sim[n]\n",
    "        \n",
    "    if bottom == 0:\n",
    "        prediction = user_avg\n",
    "    \n",
    "    else:\n",
    "        prediction = user_avg + top/bottom\n",
    "    \n",
    "    return prediction"
   ]
  },
  {
   "cell_type": "code",
   "execution_count": 50,
   "metadata": {},
   "outputs": [],
   "source": [
    "def get_rmse(test_file,k):\n",
    "    global given\n",
    "    testing = pd.read_csv(test_file)\n",
    "    given = testing.groupby(by=\"userId\").head(k)\n",
    "    testing = testing[~testing.index.isin(given.index)]\n",
    "    np_testing = testing.to_numpy()\n",
    "    ms = 0\n",
    "    for i in tqdm(range(len(np_testing))):\n",
    "        userId = int(np_testing[i][0])\n",
    "        movieId = int(np_testing[i][1])\n",
    "        rating = np_testing[i][2]\n",
    "        prediction = predictionv2(userId,movieId)\n",
    "        ms += (prediction-rating)**2\n",
    "    return math.sqrt(ms/len(np_testing))"
   ]
  },
  {
   "cell_type": "code",
   "execution_count": 51,
   "metadata": {},
   "outputs": [
    {
     "data": {
      "application/vnd.jupyter.widget-view+json": {
       "model_id": "7d691b3ec80d4d2580c47d72548d7c47",
       "version_major": 2,
       "version_minor": 0
      },
      "text/plain": [
       "HBox(children=(FloatProgress(value=0.0, max=91056.0), HTML(value='')))"
      ]
     },
     "metadata": {},
     "output_type": "display_data"
    },
    {
     "name": "stdout",
     "output_type": "stream",
     "text": [
      "\n"
     ]
    },
    {
     "data": {
      "text/plain": [
       "1.0146159099259364"
      ]
     },
     "execution_count": 51,
     "metadata": {},
     "output_type": "execute_result"
    }
   ],
   "source": [
    "get_rmse(\"processed/testing-10.csv\",10)"
   ]
  },
  {
   "cell_type": "code",
   "execution_count": 38,
   "metadata": {},
   "outputs": [
    {
     "data": {
      "application/vnd.jupyter.widget-view+json": {
       "model_id": "2079308ca6a743f084901a01dd517c7d",
       "version_major": 2,
       "version_minor": 0
      },
      "text/plain": [
       "HBox(children=(FloatProgress(value=0.0, max=101207.0), HTML(value='')))"
      ]
     },
     "metadata": {},
     "output_type": "display_data"
    },
    {
     "name": "stdout",
     "output_type": "stream",
     "text": [
      "\n"
     ]
    },
    {
     "data": {
      "text/plain": [
       "0.9768510192853541"
      ]
     },
     "execution_count": 38,
     "metadata": {},
     "output_type": "execute_result"
    }
   ],
   "source": [
    "get_rmse(\"processed/testing-20.csv\",20)"
   ]
  },
  {
   "cell_type": "code",
   "execution_count": 39,
   "metadata": {},
   "outputs": [
    {
     "data": {
      "application/vnd.jupyter.widget-view+json": {
       "model_id": "2f71fbe6ec1942f99ab970f0e417829b",
       "version_major": 2,
       "version_minor": 0
      },
      "text/plain": [
       "HBox(children=(FloatProgress(value=0.0, max=99292.0), HTML(value='')))"
      ]
     },
     "metadata": {},
     "output_type": "display_data"
    },
    {
     "name": "stdout",
     "output_type": "stream",
     "text": [
      "\n"
     ]
    },
    {
     "data": {
      "text/plain": [
       "0.9704852985078563"
      ]
     },
     "execution_count": 39,
     "metadata": {},
     "output_type": "execute_result"
    }
   ],
   "source": [
    "get_rmse(\"processed/testing-30.csv\",30)"
   ]
  },
  {
   "cell_type": "code",
   "execution_count": 40,
   "metadata": {},
   "outputs": [
    {
     "data": {
      "application/vnd.jupyter.widget-view+json": {
       "model_id": "ccbdcf3c94374f7ba14563b8dee79077",
       "version_major": 2,
       "version_minor": 0
      },
      "text/plain": [
       "HBox(children=(FloatProgress(value=0.0, max=97973.0), HTML(value='')))"
      ]
     },
     "metadata": {},
     "output_type": "display_data"
    },
    {
     "name": "stdout",
     "output_type": "stream",
     "text": [
      "\n"
     ]
    },
    {
     "data": {
      "text/plain": [
       "0.9629595981039587"
      ]
     },
     "execution_count": 40,
     "metadata": {},
     "output_type": "execute_result"
    }
   ],
   "source": [
    "get_rmse(\"processed/testing-40.csv\",40)"
   ]
  },
  {
   "cell_type": "code",
   "execution_count": 41,
   "metadata": {},
   "outputs": [
    {
     "data": {
      "application/vnd.jupyter.widget-view+json": {
       "model_id": "708ad434d517418586cc1b391b4a3be4",
       "version_major": 2,
       "version_minor": 0
      },
      "text/plain": [
       "HBox(children=(FloatProgress(value=0.0, max=99769.0), HTML(value='')))"
      ]
     },
     "metadata": {},
     "output_type": "display_data"
    },
    {
     "name": "stdout",
     "output_type": "stream",
     "text": [
      "\n"
     ]
    },
    {
     "data": {
      "text/plain": [
       "0.9516342004167937"
      ]
     },
     "execution_count": 41,
     "metadata": {},
     "output_type": "execute_result"
    }
   ],
   "source": [
    "get_rmse(\"processed/testing-50.csv\",50)"
   ]
  },
  {
   "cell_type": "code",
   "execution_count": 42,
   "metadata": {},
   "outputs": [
    {
     "data": {
      "application/vnd.jupyter.widget-view+json": {
       "model_id": "3488a931b07141f69b8f3f5399c8ec21",
       "version_major": 2,
       "version_minor": 0
      },
      "text/plain": [
       "HBox(children=(FloatProgress(value=0.0, max=110569.0), HTML(value='')))"
      ]
     },
     "metadata": {},
     "output_type": "display_data"
    },
    {
     "name": "stdout",
     "output_type": "stream",
     "text": [
      "\n"
     ]
    },
    {
     "data": {
      "text/plain": [
       "0.9637953632501727"
      ]
     },
     "execution_count": 42,
     "metadata": {},
     "output_type": "execute_result"
    }
   ],
   "source": [
    "get_rmse(\"processed/testing-60.csv\",60)"
   ]
  },
  {
   "cell_type": "code",
   "execution_count": 43,
   "metadata": {},
   "outputs": [
    {
     "data": {
      "application/vnd.jupyter.widget-view+json": {
       "model_id": "5c2ea97b367a47b59b1ee6e2f6137f22",
       "version_major": 2,
       "version_minor": 0
      },
      "text/plain": [
       "HBox(children=(FloatProgress(value=0.0, max=99265.0), HTML(value='')))"
      ]
     },
     "metadata": {},
     "output_type": "display_data"
    },
    {
     "name": "stdout",
     "output_type": "stream",
     "text": [
      "\n"
     ]
    },
    {
     "data": {
      "text/plain": [
       "0.9727135712212289"
      ]
     },
     "execution_count": 43,
     "metadata": {},
     "output_type": "execute_result"
    }
   ],
   "source": [
    "get_rmse(\"processed/testing-70.csv\",70)"
   ]
  },
  {
   "cell_type": "code",
   "execution_count": 44,
   "metadata": {},
   "outputs": [
    {
     "data": {
      "application/vnd.jupyter.widget-view+json": {
       "model_id": "310265108ae44e73b1852dac9fab7db1",
       "version_major": 2,
       "version_minor": 0
      },
      "text/plain": [
       "HBox(children=(FloatProgress(value=0.0, max=107315.0), HTML(value='')))"
      ]
     },
     "metadata": {},
     "output_type": "display_data"
    },
    {
     "name": "stdout",
     "output_type": "stream",
     "text": [
      "\n"
     ]
    },
    {
     "data": {
      "text/plain": [
       "0.9773877573129336"
      ]
     },
     "execution_count": 44,
     "metadata": {},
     "output_type": "execute_result"
    }
   ],
   "source": [
    "get_rmse(\"processed/testing-80.csv\",80)"
   ]
  },
  {
   "cell_type": "code",
   "execution_count": 45,
   "metadata": {},
   "outputs": [
    {
     "data": {
      "application/vnd.jupyter.widget-view+json": {
       "model_id": "ff843c1e63a74654971528efb8361913",
       "version_major": 2,
       "version_minor": 0
      },
      "text/plain": [
       "HBox(children=(FloatProgress(value=0.0, max=99664.0), HTML(value='')))"
      ]
     },
     "metadata": {},
     "output_type": "display_data"
    },
    {
     "name": "stdout",
     "output_type": "stream",
     "text": [
      "\n"
     ]
    },
    {
     "data": {
      "text/plain": [
       "0.9632791552388593"
      ]
     },
     "execution_count": 45,
     "metadata": {},
     "output_type": "execute_result"
    }
   ],
   "source": [
    "get_rmse(\"processed/testing-90.csv\",90)"
   ]
  },
  {
   "cell_type": "code",
   "execution_count": 46,
   "metadata": {},
   "outputs": [
    {
     "data": {
      "application/vnd.jupyter.widget-view+json": {
       "model_id": "5776d56b2d414a23ae5dd3088b66207a",
       "version_major": 2,
       "version_minor": 0
      },
      "text/plain": [
       "HBox(children=(FloatProgress(value=0.0, max=104375.0), HTML(value='')))"
      ]
     },
     "metadata": {},
     "output_type": "display_data"
    },
    {
     "name": "stdout",
     "output_type": "stream",
     "text": [
      "\n"
     ]
    },
    {
     "data": {
      "text/plain": [
       "0.9795762349583117"
      ]
     },
     "execution_count": 46,
     "metadata": {},
     "output_type": "execute_result"
    }
   ],
   "source": [
    "get_rmse(\"processed/testing-100.csv\",100)"
   ]
  },
  {
   "cell_type": "code",
   "execution_count": null,
   "metadata": {},
   "outputs": [],
   "source": []
  },
  {
   "cell_type": "code",
   "execution_count": null,
   "metadata": {},
   "outputs": [],
   "source": []
  }
 ],
 "metadata": {
  "kernelspec": {
   "display_name": "Python 3",
   "language": "python",
   "name": "python3"
  },
  "language_info": {
   "codemirror_mode": {
    "name": "ipython",
    "version": 3
   },
   "file_extension": ".py",
   "mimetype": "text/x-python",
   "name": "python",
   "nbconvert_exporter": "python",
   "pygments_lexer": "ipython3",
   "version": "3.7.6"
  }
 },
 "nbformat": 4,
 "nbformat_minor": 4
}
